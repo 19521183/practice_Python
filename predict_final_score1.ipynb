{
  "nbformat": 4,
  "nbformat_minor": 0,
  "metadata": {
    "colab": {
      "name": "predict final score1.ipynb",
      "provenance": [],
      "collapsed_sections": [
        "6YLDDPuPETr0",
        "Pu4I3iRKhoee",
        "Ie01m4CKh2hl",
        "WNqB9WECh9MH",
        "BetgE-d7iDqa",
        "Hc_E_RvhiKrI",
        "PRwqkSeZrfTm"
      ],
      "include_colab_link": true
    },
    "kernelspec": {
      "name": "python3",
      "display_name": "Python 3"
    },
    "language_info": {
      "name": "python"
    }
  },
  "cells": [
    {
      "cell_type": "markdown",
      "metadata": {
        "id": "view-in-github",
        "colab_type": "text"
      },
      "source": [
        "<a href=\"https://colab.research.google.com/github/UIT-19521183/practice_Python/blob/main/predict_final_score1.ipynb\" target=\"_parent\"><img src=\"https://colab.research.google.com/assets/colab-badge.svg\" alt=\"Open In Colab\"/></a>"
      ]
    },
    {
      "cell_type": "markdown",
      "metadata": {
        "id": "TmvkB_wGHXJ_"
      },
      "source": [
        "# **BÀI TẬP COLAB SỐ 3:**\n",
        "# **Predicting students' final exam scores from wecode data**\n",
        "\n"
      ]
    },
    {
      "cell_type": "markdown",
      "metadata": {
        "id": "7jNGmW-bU1A7"
      },
      "source": [
        "#Data preparation"
      ]
    },
    {
      "cell_type": "code",
      "metadata": {
        "id": "L8omFBBudU9o"
      },
      "source": [
        "# Import các thư viện cần thiết\n",
        "import pandas as pd\n",
        "import matplotlib.pyplot as plt\n",
        "import numpy as np\n",
        "import seaborn as sns\n",
        "%matplotlib inline"
      ],
      "execution_count": 1,
      "outputs": []
    },
    {
      "cell_type": "code",
      "metadata": {
        "id": "5CIpDkVmjNNJ"
      },
      "source": [
        "# Đọc 2 files wecode.csv và score_training.csv lần lượt vào 2 biến Input và Output\n",
        "Input=pd.read_csv(\"https://docs.google.com/spreadsheets/d/14LHQD-iaezhk6twpunNqZT7JFVMo5llTEkHeHqi0qs8/export?format=csv\")\n",
        "Output=pd.read_csv(\"https://docs.google.com/spreadsheets/d/129CHMLdJCJKhtE7kVN2EWsaJ7Q9cLYKYmNHHKBUQEYs/export?format=csv\")"
      ],
      "execution_count": 2,
      "outputs": []
    },
    {
      "cell_type": "code",
      "metadata": {
        "colab": {
          "base_uri": "https://localhost:8080/",
          "height": 568
        },
        "id": "WnAA0kLZllTM",
        "outputId": "f194bbce-3894-4283-a071-5d94389e2554"
      },
      "source": [
        "Input"
      ],
      "execution_count": null,
      "outputs": [
        {
          "output_type": "execute_result",
          "data": {
            "text/html": [
              "<div>\n",
              "<style scoped>\n",
              "    .dataframe tbody tr th:only-of-type {\n",
              "        vertical-align: middle;\n",
              "    }\n",
              "\n",
              "    .dataframe tbody tr th {\n",
              "        vertical-align: top;\n",
              "    }\n",
              "\n",
              "    .dataframe thead th {\n",
              "        text-align: right;\n",
              "    }\n",
              "</style>\n",
              "<table border=\"1\" class=\"dataframe\">\n",
              "  <thead>\n",
              "    <tr style=\"text-align: right;\">\n",
              "      <th></th>\n",
              "      <th>id</th>\n",
              "      <th>assignment_id</th>\n",
              "      <th>problem_id</th>\n",
              "      <th>user_id</th>\n",
              "      <th>is_final</th>\n",
              "      <th>status</th>\n",
              "      <th>pre_score</th>\n",
              "      <th>coefficient</th>\n",
              "      <th>file_name</th>\n",
              "      <th>language_id</th>\n",
              "      <th>created_at</th>\n",
              "      <th>updated_at</th>\n",
              "    </tr>\n",
              "  </thead>\n",
              "  <tbody>\n",
              "    <tr>\n",
              "      <th>0</th>\n",
              "      <td>4</td>\n",
              "      <td>0</td>\n",
              "      <td>3</td>\n",
              "      <td>4</td>\n",
              "      <td>1</td>\n",
              "      <td>SCORE</td>\n",
              "      <td>10000</td>\n",
              "      <td>100</td>\n",
              "      <td>solution-0</td>\n",
              "      <td>2</td>\n",
              "      <td>2020-10-30 10:58:11</td>\n",
              "      <td>2020-10-30 10:58:19</td>\n",
              "    </tr>\n",
              "    <tr>\n",
              "      <th>1</th>\n",
              "      <td>5</td>\n",
              "      <td>0</td>\n",
              "      <td>4</td>\n",
              "      <td>4</td>\n",
              "      <td>1</td>\n",
              "      <td>SCORE</td>\n",
              "      <td>10000</td>\n",
              "      <td>100</td>\n",
              "      <td>solution-1</td>\n",
              "      <td>2</td>\n",
              "      <td>2020-10-30 11:07:09</td>\n",
              "      <td>2020-10-30 11:07:17</td>\n",
              "    </tr>\n",
              "    <tr>\n",
              "      <th>2</th>\n",
              "      <td>6</td>\n",
              "      <td>0</td>\n",
              "      <td>5</td>\n",
              "      <td>4</td>\n",
              "      <td>0</td>\n",
              "      <td>Compilation Error</td>\n",
              "      <td>0</td>\n",
              "      <td>100</td>\n",
              "      <td>solution-2</td>\n",
              "      <td>2</td>\n",
              "      <td>2020-10-30 11:08:01</td>\n",
              "      <td>2020-10-30 11:23:36</td>\n",
              "    </tr>\n",
              "    <tr>\n",
              "      <th>3</th>\n",
              "      <td>7</td>\n",
              "      <td>0</td>\n",
              "      <td>5</td>\n",
              "      <td>4</td>\n",
              "      <td>0</td>\n",
              "      <td>Compilation Error</td>\n",
              "      <td>0</td>\n",
              "      <td>100</td>\n",
              "      <td>solution-3</td>\n",
              "      <td>2</td>\n",
              "      <td>2020-10-30 11:11:41</td>\n",
              "      <td>2020-10-30 11:11:42</td>\n",
              "    </tr>\n",
              "    <tr>\n",
              "      <th>4</th>\n",
              "      <td>8</td>\n",
              "      <td>0</td>\n",
              "      <td>5</td>\n",
              "      <td>4</td>\n",
              "      <td>0</td>\n",
              "      <td>Compilation Error</td>\n",
              "      <td>0</td>\n",
              "      <td>100</td>\n",
              "      <td>solution-4</td>\n",
              "      <td>2</td>\n",
              "      <td>2020-10-30 11:15:06</td>\n",
              "      <td>2020-10-30 11:15:07</td>\n",
              "    </tr>\n",
              "    <tr>\n",
              "      <th>...</th>\n",
              "      <td>...</td>\n",
              "      <td>...</td>\n",
              "      <td>...</td>\n",
              "      <td>...</td>\n",
              "      <td>...</td>\n",
              "      <td>...</td>\n",
              "      <td>...</td>\n",
              "      <td>...</td>\n",
              "      <td>...</td>\n",
              "      <td>...</td>\n",
              "      <td>...</td>\n",
              "      <td>...</td>\n",
              "    </tr>\n",
              "    <tr>\n",
              "      <th>264601</th>\n",
              "      <td>266667</td>\n",
              "      <td>0</td>\n",
              "      <td>25</td>\n",
              "      <td>1796</td>\n",
              "      <td>0</td>\n",
              "      <td>SCORE</td>\n",
              "      <td>0</td>\n",
              "      <td>100</td>\n",
              "      <td>solution-3977</td>\n",
              "      <td>4</td>\n",
              "      <td>2021-04-28 9:34:20</td>\n",
              "      <td>2021-04-28 9:34:27</td>\n",
              "    </tr>\n",
              "    <tr>\n",
              "      <th>264602</th>\n",
              "      <td>266668</td>\n",
              "      <td>0</td>\n",
              "      <td>25</td>\n",
              "      <td>1796</td>\n",
              "      <td>0</td>\n",
              "      <td>Compilation Error</td>\n",
              "      <td>0</td>\n",
              "      <td>100</td>\n",
              "      <td>solution-3978</td>\n",
              "      <td>2</td>\n",
              "      <td>2021-04-28 9:35:07</td>\n",
              "      <td>2021-04-28 9:35:08</td>\n",
              "    </tr>\n",
              "    <tr>\n",
              "      <th>264603</th>\n",
              "      <td>266669</td>\n",
              "      <td>0</td>\n",
              "      <td>25</td>\n",
              "      <td>1796</td>\n",
              "      <td>1</td>\n",
              "      <td>SCORE</td>\n",
              "      <td>10000</td>\n",
              "      <td>100</td>\n",
              "      <td>solution-3979</td>\n",
              "      <td>4</td>\n",
              "      <td>2021-04-28 9:35:15</td>\n",
              "      <td>2021-04-28 9:35:21</td>\n",
              "    </tr>\n",
              "    <tr>\n",
              "      <th>264604</th>\n",
              "      <td>266670</td>\n",
              "      <td>0</td>\n",
              "      <td>150</td>\n",
              "      <td>255</td>\n",
              "      <td>1</td>\n",
              "      <td>SCORE</td>\n",
              "      <td>6250</td>\n",
              "      <td>100</td>\n",
              "      <td>solution-3980</td>\n",
              "      <td>2</td>\n",
              "      <td>2021-05-11 1:34:57</td>\n",
              "      <td>2021-05-11 1:35:28</td>\n",
              "    </tr>\n",
              "    <tr>\n",
              "      <th>264605</th>\n",
              "      <td>266671</td>\n",
              "      <td>21</td>\n",
              "      <td>24</td>\n",
              "      <td>1568</td>\n",
              "      <td>0</td>\n",
              "      <td>SCORE</td>\n",
              "      <td>10000</td>\n",
              "      <td>100</td>\n",
              "      <td>solution-609</td>\n",
              "      <td>4</td>\n",
              "      <td>2021-05-13 17:17:17</td>\n",
              "      <td>2021-05-13 17:17:40</td>\n",
              "    </tr>\n",
              "  </tbody>\n",
              "</table>\n",
              "<p>264606 rows × 12 columns</p>\n",
              "</div>"
            ],
            "text/plain": [
              "            id  assignment_id  ...           created_at           updated_at\n",
              "0            4              0  ...  2020-10-30 10:58:11  2020-10-30 10:58:19\n",
              "1            5              0  ...  2020-10-30 11:07:09  2020-10-30 11:07:17\n",
              "2            6              0  ...  2020-10-30 11:08:01  2020-10-30 11:23:36\n",
              "3            7              0  ...  2020-10-30 11:11:41  2020-10-30 11:11:42\n",
              "4            8              0  ...  2020-10-30 11:15:06  2020-10-30 11:15:07\n",
              "...        ...            ...  ...                  ...                  ...\n",
              "264601  266667              0  ...   2021-04-28 9:34:20   2021-04-28 9:34:27\n",
              "264602  266668              0  ...   2021-04-28 9:35:07   2021-04-28 9:35:08\n",
              "264603  266669              0  ...   2021-04-28 9:35:15   2021-04-28 9:35:21\n",
              "264604  266670              0  ...   2021-05-11 1:34:57   2021-05-11 1:35:28\n",
              "264605  266671             21  ...  2021-05-13 17:17:17  2021-05-13 17:17:40\n",
              "\n",
              "[264606 rows x 12 columns]"
            ]
          },
          "metadata": {
            "tags": []
          },
          "execution_count": 10
        }
      ]
    },
    {
      "cell_type": "code",
      "metadata": {
        "colab": {
          "base_uri": "https://localhost:8080/",
          "height": 399
        },
        "id": "Z1iAVa9Hl3h7",
        "outputId": "154f6b5a-1369-43f7-e498-9581daada116"
      },
      "source": [
        "Output"
      ],
      "execution_count": null,
      "outputs": [
        {
          "output_type": "execute_result",
          "data": {
            "text/html": [
              "<div>\n",
              "<style scoped>\n",
              "    .dataframe tbody tr th:only-of-type {\n",
              "        vertical-align: middle;\n",
              "    }\n",
              "\n",
              "    .dataframe tbody tr th {\n",
              "        vertical-align: top;\n",
              "    }\n",
              "\n",
              "    .dataframe thead th {\n",
              "        text-align: right;\n",
              "    }\n",
              "</style>\n",
              "<table border=\"1\" class=\"dataframe\">\n",
              "  <thead>\n",
              "    <tr style=\"text-align: right;\">\n",
              "      <th></th>\n",
              "      <th>id</th>\n",
              "      <th>QT</th>\n",
              "      <th>GK</th>\n",
              "      <th>TH</th>\n",
              "      <th>CK</th>\n",
              "      <th>TBM</th>\n",
              "      <th>TBTL</th>\n",
              "    </tr>\n",
              "  </thead>\n",
              "  <tbody>\n",
              "    <tr>\n",
              "      <th>0</th>\n",
              "      <td>22</td>\n",
              "      <td>10</td>\n",
              "      <td>9</td>\n",
              "      <td>8.5</td>\n",
              "      <td>8.5</td>\n",
              "      <td>8.8</td>\n",
              "      <td>8.52</td>\n",
              "    </tr>\n",
              "    <tr>\n",
              "      <th>1</th>\n",
              "      <td>24</td>\n",
              "      <td>10</td>\n",
              "      <td>8</td>\n",
              "      <td>10</td>\n",
              "      <td>9.5</td>\n",
              "      <td>9.4</td>\n",
              "      <td>8.41</td>\n",
              "    </tr>\n",
              "    <tr>\n",
              "      <th>2</th>\n",
              "      <td>27</td>\n",
              "      <td>10</td>\n",
              "      <td>10</td>\n",
              "      <td>10</td>\n",
              "      <td>10</td>\n",
              "      <td>10</td>\n",
              "      <td>8.67</td>\n",
              "    </tr>\n",
              "    <tr>\n",
              "      <th>3</th>\n",
              "      <td>28</td>\n",
              "      <td>10</td>\n",
              "      <td>9.5</td>\n",
              "      <td>7.5</td>\n",
              "      <td>9.5</td>\n",
              "      <td>9.2</td>\n",
              "      <td>7.39</td>\n",
              "    </tr>\n",
              "    <tr>\n",
              "      <th>4</th>\n",
              "      <td>29</td>\n",
              "      <td>10</td>\n",
              "      <td>9.5</td>\n",
              "      <td>5</td>\n",
              "      <td>8.5</td>\n",
              "      <td>8.2</td>\n",
              "      <td>8.05</td>\n",
              "    </tr>\n",
              "    <tr>\n",
              "      <th>...</th>\n",
              "      <td>...</td>\n",
              "      <td>...</td>\n",
              "      <td>...</td>\n",
              "      <td>...</td>\n",
              "      <td>...</td>\n",
              "      <td>...</td>\n",
              "      <td>...</td>\n",
              "    </tr>\n",
              "    <tr>\n",
              "      <th>970</th>\n",
              "      <td>1857</td>\n",
              "      <td>5</td>\n",
              "      <td>4.5</td>\n",
              "      <td>10</td>\n",
              "      <td>4</td>\n",
              "      <td>6</td>\n",
              "      <td>6.03</td>\n",
              "    </tr>\n",
              "    <tr>\n",
              "      <th>971</th>\n",
              "      <td>1859</td>\n",
              "      <td>8</td>\n",
              "      <td>5</td>\n",
              "      <td>10</td>\n",
              "      <td>1.5</td>\n",
              "      <td>5.4</td>\n",
              "      <td>5.06</td>\n",
              "    </tr>\n",
              "    <tr>\n",
              "      <th>972</th>\n",
              "      <td>1862</td>\n",
              "      <td>5</td>\n",
              "      <td>6.5</td>\n",
              "      <td>1</td>\n",
              "      <td>7.5</td>\n",
              "      <td>5.1</td>\n",
              "      <td>4.71</td>\n",
              "    </tr>\n",
              "    <tr>\n",
              "      <th>973</th>\n",
              "      <td>1865</td>\n",
              "      <td>6.5</td>\n",
              "      <td></td>\n",
              "      <td>3</td>\n",
              "      <td>7.5</td>\n",
              "      <td></td>\n",
              "      <td>6.89</td>\n",
              "    </tr>\n",
              "    <tr>\n",
              "      <th>974</th>\n",
              "      <td>1866</td>\n",
              "      <td>9</td>\n",
              "      <td>7.5</td>\n",
              "      <td>2</td>\n",
              "      <td>5</td>\n",
              "      <td>5</td>\n",
              "      <td>7.05</td>\n",
              "    </tr>\n",
              "  </tbody>\n",
              "</table>\n",
              "<p>975 rows × 7 columns</p>\n",
              "</div>"
            ],
            "text/plain": [
              "       id   QT   GK   TH   CK  TBM  TBTL\n",
              "0      22   10    9  8.5  8.5  8.8  8.52\n",
              "1      24   10    8   10  9.5  9.4  8.41\n",
              "2      27   10   10   10   10   10  8.67\n",
              "3      28   10  9.5  7.5  9.5  9.2  7.39\n",
              "4      29   10  9.5    5  8.5  8.2  8.05\n",
              "..    ...  ...  ...  ...  ...  ...   ...\n",
              "970  1857    5  4.5   10    4    6  6.03\n",
              "971  1859    8    5   10  1.5  5.4  5.06\n",
              "972  1862    5  6.5    1  7.5  5.1  4.71\n",
              "973  1865  6.5         3  7.5       6.89\n",
              "974  1866    9  7.5    2    5    5  7.05\n",
              "\n",
              "[975 rows x 7 columns]"
            ]
          },
          "metadata": {
            "tags": []
          },
          "execution_count": 11
        }
      ]
    },
    {
      "cell_type": "markdown",
      "metadata": {
        "id": "9D8zSHvOVO1o"
      },
      "source": [
        "#Data discovery"
      ]
    },
    {
      "cell_type": "markdown",
      "metadata": {
        "id": "eWDpp2OPrvfd"
      },
      "source": [
        "## wecode.csv"
      ]
    },
    {
      "cell_type": "code",
      "metadata": {
        "colab": {
          "base_uri": "https://localhost:8080/"
        },
        "id": "ATh0BSxsmqzq",
        "outputId": "d087eb55-a732-49f3-f8b2-7fbf4c734b8a"
      },
      "source": [
        "#Thông tin về file wecode.csv\n",
        "Input.info()"
      ],
      "execution_count": null,
      "outputs": [
        {
          "output_type": "stream",
          "text": [
            "<class 'pandas.core.frame.DataFrame'>\n",
            "RangeIndex: 264606 entries, 0 to 264605\n",
            "Data columns (total 12 columns):\n",
            " #   Column         Non-Null Count   Dtype \n",
            "---  ------         --------------   ----- \n",
            " 0   id             264606 non-null  int64 \n",
            " 1   assignment_id  264606 non-null  int64 \n",
            " 2   problem_id     264606 non-null  int64 \n",
            " 3   user_id        264606 non-null  int64 \n",
            " 4   is_final       264606 non-null  int64 \n",
            " 5   status         264605 non-null  object\n",
            " 6   pre_score      264606 non-null  int64 \n",
            " 7   coefficient    264606 non-null  object\n",
            " 8   file_name      264606 non-null  object\n",
            " 9   language_id    264606 non-null  int64 \n",
            " 10  created_at     264606 non-null  object\n",
            " 11  updated_at     264606 non-null  object\n",
            "dtypes: int64(7), object(5)\n",
            "memory usage: 24.2+ MB\n"
          ],
          "name": "stdout"
        }
      ]
    },
    {
      "cell_type": "markdown",
      "metadata": {
        "id": "AXjcM3GK3oQP"
      },
      "source": [
        "\n",
        "\n",
        "> **Nhận xét:** Tất cả các cột trong file wecode.csv đều đầy đủ giá trị, không có cột nào chứa null values \n",
        "\n"
      ]
    },
    {
      "cell_type": "code",
      "metadata": {
        "id": "s1OeBv6y9b3d"
      },
      "source": [
        "# Đếm tổng số lượng submissions của mỗi user_id\n",
        "# file user_info chứa thông tin thống kê được của mỗi user_id dựa trên file wecode.csv\n",
        "user_info=Input[[\"user_id\", \"id\"]].groupby(\"user_id\").count() #Đếm số lượng id(cũng là số lượng submissions của mỗi user)\n",
        "user_info=user_info.rename(columns = {\"id\":\"id_count\"}).reset_index() #Đổi tên cột id vừa đếm thành id_count"
      ],
      "execution_count": null,
      "outputs": []
    },
    {
      "cell_type": "code",
      "metadata": {
        "id": "m4yW7lM-_0Au"
      },
      "source": [
        "# Đếm tổng số lượng asignments mà mỗi user_id tham gia\n",
        "# Lọc ra cột user_id và assignment_id. Sau đó, drop những dòng trùng lặp nhau (giống nhau về cả user_id lẫn assignment_id)\n",
        "assignment=Input[[\"user_id\", \"assignment_id\"]].drop_duplicates() \n",
        "# Đếm số lượng asignment_id của mỗi user_id\n",
        "assignment=assignment.groupby(\"user_id\").count() \n",
        "assignment=assignment.rename(columns = {\"assignment_id\":\"assignment_count\"}).reset_index()\n",
        "# Nối file user_id và thông tin về số assignment của mỗi sinh viên vừa tìm được ở trên\n",
        "# (nối thẳng theo dòng tương ứng mà không cần join vì sau khi groupby user_id thì user_id đã được sort theo thứ tự)\n",
        "user_info=pd.concat([user_info, assignment[\"assignment_count\"]], axis=1) "
      ],
      "execution_count": null,
      "outputs": []
    },
    {
      "cell_type": "code",
      "metadata": {
        "id": "w21WvK-GXDGT"
      },
      "source": [
        "# Đếm tổng số lượng problems mà mỗi user_id tham gia giống như cách đếm số assignements\n",
        "problem=Input[[\"user_id\", \"problem_id\"]].drop_duplicates()\n",
        "problem=problem.groupby(\"user_id\").count()\n",
        "problem=problem.rename(columns = {\"problem_id\":\"problem_count\"}).reset_index()\n",
        "user_info=pd.concat([user_info, problem[\"problem_count\"]], axis=1) "
      ],
      "execution_count": null,
      "outputs": []
    },
    {
      "cell_type": "code",
      "metadata": {
        "id": "uQW6lZS_FeHu"
      },
      "source": [
        "# Tính điểm TB của mỗi user_id (= tổng pre_score của tất cả assignments của tất cả problems/ Tổng số assignements của tất cả problems )\n",
        "# Lọc ra cột user_id, assignment_id, problem_id và pre_score\n",
        "score=Input[[\"user_id\", \"assignment_id\", \"problem_id\", \"pre_score\"]]\n",
        "# Nhóm các user_id, assignment_id, problem_id rồi tính tổng điểm mỗi user\n",
        "score=score.groupby([\"user_id\",\"assignment_id\", \"problem_id\"]).sum().apply(lambda x: x)\n",
        "# Nhóm các user_id rồi tính điểm TB của mỗi user_id (= tổng điểm chia cho tổng số problems của tất cả assignments mà mỗi user_id tham gia) \n",
        "score=score.groupby([\"user_id\"]).mean()\n",
        "score=score.rename(columns = {\"pre_score\":\"average_score\"}).reset_index()\n",
        "# Thêm thông tin về điểm TB vừa tính vào file user_info\n",
        "user_info=pd.concat([user_info, score[\"average_score\"]], axis=1)"
      ],
      "execution_count": null,
      "outputs": []
    },
    {
      "cell_type": "code",
      "metadata": {
        "id": "aPt0DOFralVK"
      },
      "source": [
        "# Đếm số languages mà mỗi user_id sử dụng\n",
        "language=Input[[\"user_id\", \"language_id\"]].drop_duplicates()\n",
        "language=language.groupby(\"user_id\").count()\n",
        "language=language.rename(columns = {\"language_id\":\"language_count\"}).reset_index()\n",
        "user_info=pd.concat([user_info, language[\"language_count\"]], axis=1)"
      ],
      "execution_count": null,
      "outputs": []
    },
    {
      "cell_type": "code",
      "metadata": {
        "colab": {
          "base_uri": "https://localhost:8080/",
          "height": 419
        },
        "id": "MhguysalBSRZ",
        "outputId": "01f88f02-2747-48c5-d873-c381fda27b09"
      },
      "source": [
        "user_info"
      ],
      "execution_count": null,
      "outputs": [
        {
          "output_type": "execute_result",
          "data": {
            "text/html": [
              "<div>\n",
              "<style scoped>\n",
              "    .dataframe tbody tr th:only-of-type {\n",
              "        vertical-align: middle;\n",
              "    }\n",
              "\n",
              "    .dataframe tbody tr th {\n",
              "        vertical-align: top;\n",
              "    }\n",
              "\n",
              "    .dataframe thead th {\n",
              "        text-align: right;\n",
              "    }\n",
              "</style>\n",
              "<table border=\"1\" class=\"dataframe\">\n",
              "  <thead>\n",
              "    <tr style=\"text-align: right;\">\n",
              "      <th></th>\n",
              "      <th>user_id</th>\n",
              "      <th>id_count</th>\n",
              "      <th>assignment_count</th>\n",
              "      <th>problem_count</th>\n",
              "      <th>average_score</th>\n",
              "      <th>language_count</th>\n",
              "    </tr>\n",
              "  </thead>\n",
              "  <tbody>\n",
              "    <tr>\n",
              "      <th>0</th>\n",
              "      <td>1</td>\n",
              "      <td>2</td>\n",
              "      <td>1</td>\n",
              "      <td>2</td>\n",
              "      <td>5000.000000</td>\n",
              "      <td>1</td>\n",
              "    </tr>\n",
              "    <tr>\n",
              "      <th>1</th>\n",
              "      <td>4</td>\n",
              "      <td>54</td>\n",
              "      <td>1</td>\n",
              "      <td>41</td>\n",
              "      <td>11365.853659</td>\n",
              "      <td>1</td>\n",
              "    </tr>\n",
              "    <tr>\n",
              "      <th>2</th>\n",
              "      <td>5</td>\n",
              "      <td>6</td>\n",
              "      <td>4</td>\n",
              "      <td>5</td>\n",
              "      <td>6000.000000</td>\n",
              "      <td>1</td>\n",
              "    </tr>\n",
              "    <tr>\n",
              "      <th>3</th>\n",
              "      <td>6</td>\n",
              "      <td>130</td>\n",
              "      <td>4</td>\n",
              "      <td>88</td>\n",
              "      <td>10849.853933</td>\n",
              "      <td>1</td>\n",
              "    </tr>\n",
              "    <tr>\n",
              "      <th>4</th>\n",
              "      <td>7</td>\n",
              "      <td>5</td>\n",
              "      <td>1</td>\n",
              "      <td>2</td>\n",
              "      <td>9421.500000</td>\n",
              "      <td>1</td>\n",
              "    </tr>\n",
              "    <tr>\n",
              "      <th>...</th>\n",
              "      <td>...</td>\n",
              "      <td>...</td>\n",
              "      <td>...</td>\n",
              "      <td>...</td>\n",
              "      <td>...</td>\n",
              "      <td>...</td>\n",
              "    </tr>\n",
              "    <tr>\n",
              "      <th>1154</th>\n",
              "      <td>1860</td>\n",
              "      <td>76</td>\n",
              "      <td>10</td>\n",
              "      <td>43</td>\n",
              "      <td>8446.666667</td>\n",
              "      <td>1</td>\n",
              "    </tr>\n",
              "    <tr>\n",
              "      <th>1155</th>\n",
              "      <td>1862</td>\n",
              "      <td>12</td>\n",
              "      <td>2</td>\n",
              "      <td>6</td>\n",
              "      <td>6666.666667</td>\n",
              "      <td>1</td>\n",
              "    </tr>\n",
              "    <tr>\n",
              "      <th>1156</th>\n",
              "      <td>1864</td>\n",
              "      <td>187</td>\n",
              "      <td>5</td>\n",
              "      <td>63</td>\n",
              "      <td>8941.142857</td>\n",
              "      <td>1</td>\n",
              "    </tr>\n",
              "    <tr>\n",
              "      <th>1157</th>\n",
              "      <td>1865</td>\n",
              "      <td>99</td>\n",
              "      <td>3</td>\n",
              "      <td>17</td>\n",
              "      <td>11144.705882</td>\n",
              "      <td>1</td>\n",
              "    </tr>\n",
              "    <tr>\n",
              "      <th>1158</th>\n",
              "      <td>1868</td>\n",
              "      <td>47</td>\n",
              "      <td>4</td>\n",
              "      <td>20</td>\n",
              "      <td>13928.571429</td>\n",
              "      <td>1</td>\n",
              "    </tr>\n",
              "  </tbody>\n",
              "</table>\n",
              "<p>1159 rows × 6 columns</p>\n",
              "</div>"
            ],
            "text/plain": [
              "      user_id  id_count  ...  average_score  language_count\n",
              "0           1         2  ...    5000.000000               1\n",
              "1           4        54  ...   11365.853659               1\n",
              "2           5         6  ...    6000.000000               1\n",
              "3           6       130  ...   10849.853933               1\n",
              "4           7         5  ...    9421.500000               1\n",
              "...       ...       ...  ...            ...             ...\n",
              "1154     1860        76  ...    8446.666667               1\n",
              "1155     1862        12  ...    6666.666667               1\n",
              "1156     1864       187  ...    8941.142857               1\n",
              "1157     1865        99  ...   11144.705882               1\n",
              "1158     1868        47  ...   13928.571429               1\n",
              "\n",
              "[1159 rows x 6 columns]"
            ]
          },
          "metadata": {
            "tags": []
          },
          "execution_count": 8
        }
      ]
    },
    {
      "cell_type": "code",
      "metadata": {
        "colab": {
          "base_uri": "https://localhost:8080/",
          "height": 733
        },
        "id": "Jmx3fzM2hhc3",
        "outputId": "d1ea3388-293f-492a-9d61-3e33588179bc"
      },
      "source": [
        "cols=[\"id_count\",\t\"assignment_count\",\t\"problem_count\",\t\"average_score\",\t\"language_count\"]\n",
        "titles=[\"submissions\",\"assignments\",\"problems\",\"Average scores\", \"languages\"]\n",
        "fig, axs = plt.subplots(2,3, figsize = (20,12))\n",
        "n=0\n",
        "for i in range(2):\n",
        "  for j in range(3):\n",
        "    if n!=5:\n",
        "      if n!=3:\n",
        "        axs[i,j].set_title(\"Number of \"+titles[n]+\" per student's distribution\", size=15)\n",
        "      else:\n",
        "        axs[i,j].set_title(titles[n]+\" per student's distribution\", size=15)\n",
        "      sns.histplot(user_info[cols[n]], kde=True, ax=axs[i,j])\n",
        "      n+=1"
      ],
      "execution_count": null,
      "outputs": [
        {
          "output_type": "display_data",
          "data": {
            "image/png": "[encoded data removed]",
            "text/plain": [
              "<Figure size 1440x864 with 6 Axes>"
            ]
          },
          "metadata": {
            "tags": [],
            "needs_background": "light"
          }
        }
      ]
    },
    {
      "cell_type": "markdown",
      "metadata": {
        "id": "z4YRl592-GUJ"
      },
      "source": [
        "> **Nhận xét:**\n",
        "*   Số submissions của các sinh viên rơi vào khoảng 40-240 là nhiều nhất\n",
        "*   Số assignments của các sinh viên rơi vào khoảng 10-15 là nhiều nhất\n",
        "*   Số problems của các sinh viên rơi vào khoảng 90-110 là nhiều nhất\n",
        "*   Điểm wecode trung bình của các sinh viên rơi vào khoảng 10000-15000 là nhiều\n",
        "*  Phần lớn sinh viên IT001 chỉ sử dụng 1 ngôn ngữ, việc sử dụng 2 ngôn ngữ là rất ít và có vẻ như là submit nhầm ngôn ngữ "
      ]
    },
    {
      "cell_type": "markdown",
      "metadata": {
        "id": "FE1IIiTLgPm5"
      },
      "source": [
        "##Công thức của Nhóm: \n"
      ]
    },
    {
      "cell_type": "code",
      "metadata": {
        "id": "TuObuJJyG5xn"
      },
      "source": [
        "# Viết một vài hàm cần thiết\n",
        "# Merge cột thông số đã tính với cột CK\n",
        "def merge_dataframe(Output, score):\n",
        "  # Đổi tên cột id của dataframe Output thành user_id.\n",
        "  Output.rename(columns = {'id': 'user_id'}, inplace=True)\n",
        "  # Merge 2 dataframe lại để có được hệ số quyết định trình độ của một sinh viên và cả điểm cuối kì của sinh viên đó.\n",
        "  merge_result = score.merge(Output[['user_id', 'CK']], on = ['user_id'])\n",
        "  # Xoá các hàng có điểm CK bằng null.\n",
        "  merge_result = merge_result.drop(index = merge_result.loc[(merge_result['CK'].isnull()) | (merge_result['CK'] == '\\xa0'), :].index)\n",
        "  # Chuyển cột cuối kì thành kiểu float.\n",
        "  merge_result['CK'] = merge_result['CK'].astype(float)\n",
        "  return merge_result\n",
        "# Vẽ biểu đồ\n",
        "def scatter_plot(x, y, title):\n",
        "  plt.figure(figsize=(10, 6))\n",
        "  plt.scatter(x, y, color='green')\n",
        "  plt.xlabel(x.name, fontsize=16)\n",
        "  plt.ylabel('CK', fontsize=16)\n",
        "  plt.title(title, fontsize=18)"
      ],
      "execution_count": 10,
      "outputs": []
    },
    {
      "cell_type": "markdown",
      "metadata": {
        "id": "6YLDDPuPETr0"
      },
      "source": [
        "###1. Tính tổng của (coefficient của bài nộp có final = 1 và pre_score = 10000) chia cho số lượng user hoàn thành của problem đó của mỗi problem trên mỗi assignment"
      ]
    },
    {
      "cell_type": "code",
      "metadata": {
        "id": "-B-p5ikRN1-X",
        "colab": {
          "base_uri": "https://localhost:8080/",
          "height": 419
        },
        "outputId": "11a5f5b8-00bc-49bc-8f37-30a6b724caea"
      },
      "source": [
        "#Tính tổng số lượng user hoàn thành của mỗi problem trên mỗi assignment.\n",
        "sum_user_done_problem = Input.loc[(Input['is_final'] == 1) & (Input['pre_score'] == 10000), ['user_id', 'problem_id', 'assignment_id']]\\\n",
        "                             .groupby(['assignment_id', 'problem_id'],  as_index=False)\\\n",
        "                             .count()\n",
        "sum_user_done_problem.rename(columns = {'user_id': 'total_id'}, inplace = True)\n",
        "\n",
        "#tính hệ số quyết định trình độ của một sinh viên dựa trên tổng của (coefficient của bài nộp có final = 1 và pre_score = 10000) chia cho số lượng user hoàn thành của problem đó của mỗi problem trên mỗi assignment\n",
        "\n",
        "# merge hai bảng Input và sum_user_done_problem để có số lượng user hoàn thành của mỗi problem trên mỗi bài hoàn thành.\n",
        "factor_score = Input.loc[(Input['is_final'] == 1) & (Input['pre_score'] == 10000), ['user_id', 'problem_id', 'assignment_id', 'coefficient']]\\\n",
        "             .merge(sum_user_done_problem, on = ['assignment_id', 'problem_id'])\n",
        "#chuyển coefficient thành float và 'error' thành 0\n",
        "factor_score['coefficient'] = factor_score['coefficient'].apply(lambda x: 0 if x == 'error' else float(x))\n",
        "#tính điểm bằng coefficient chia cho tổng user hoàn thành problem đó\n",
        "factor_score['Score'] = factor_score['coefficient']/factor_score['total_id']\n",
        "#groupby user_id theo tổng của Score.\n",
        "factor_score = factor_score[['user_id', 'Score']].groupby(['user_id'],  as_index=False).sum()\n",
        "factor_score"
      ],
      "execution_count": null,
      "outputs": [
        {
          "output_type": "execute_result",
          "data": {
            "text/html": [
              "<div>\n",
              "<style scoped>\n",
              "    .dataframe tbody tr th:only-of-type {\n",
              "        vertical-align: middle;\n",
              "    }\n",
              "\n",
              "    .dataframe tbody tr th {\n",
              "        vertical-align: top;\n",
              "    }\n",
              "\n",
              "    .dataframe thead th {\n",
              "        text-align: right;\n",
              "    }\n",
              "</style>\n",
              "<table border=\"1\" class=\"dataframe\">\n",
              "  <thead>\n",
              "    <tr style=\"text-align: right;\">\n",
              "      <th></th>\n",
              "      <th>user_id</th>\n",
              "      <th>Score</th>\n",
              "    </tr>\n",
              "  </thead>\n",
              "  <tbody>\n",
              "    <tr>\n",
              "      <th>0</th>\n",
              "      <td>1</td>\n",
              "      <td>100.000000</td>\n",
              "    </tr>\n",
              "    <tr>\n",
              "      <th>1</th>\n",
              "      <td>4</td>\n",
              "      <td>3017.619048</td>\n",
              "    </tr>\n",
              "    <tr>\n",
              "      <th>2</th>\n",
              "      <td>5</td>\n",
              "      <td>4.602470</td>\n",
              "    </tr>\n",
              "    <tr>\n",
              "      <th>3</th>\n",
              "      <td>6</td>\n",
              "      <td>7588.529015</td>\n",
              "    </tr>\n",
              "    <tr>\n",
              "      <th>4</th>\n",
              "      <td>11</td>\n",
              "      <td>702.380952</td>\n",
              "    </tr>\n",
              "    <tr>\n",
              "      <th>...</th>\n",
              "      <td>...</td>\n",
              "      <td>...</td>\n",
              "    </tr>\n",
              "    <tr>\n",
              "      <th>1134</th>\n",
              "      <td>1860</td>\n",
              "      <td>47.224781</td>\n",
              "    </tr>\n",
              "    <tr>\n",
              "      <th>1135</th>\n",
              "      <td>1862</td>\n",
              "      <td>7.616685</td>\n",
              "    </tr>\n",
              "    <tr>\n",
              "      <th>1136</th>\n",
              "      <td>1864</td>\n",
              "      <td>1906.308370</td>\n",
              "    </tr>\n",
              "    <tr>\n",
              "      <th>1137</th>\n",
              "      <td>1865</td>\n",
              "      <td>31.534100</td>\n",
              "    </tr>\n",
              "    <tr>\n",
              "      <th>1138</th>\n",
              "      <td>1868</td>\n",
              "      <td>1607.930403</td>\n",
              "    </tr>\n",
              "  </tbody>\n",
              "</table>\n",
              "<p>1139 rows × 2 columns</p>\n",
              "</div>"
            ],
            "text/plain": [
              "      user_id        Score\n",
              "0           1   100.000000\n",
              "1           4  3017.619048\n",
              "2           5     4.602470\n",
              "3           6  7588.529015\n",
              "4          11   702.380952\n",
              "...       ...          ...\n",
              "1134     1860    47.224781\n",
              "1135     1862     7.616685\n",
              "1136     1864  1906.308370\n",
              "1137     1865    31.534100\n",
              "1138     1868  1607.930403\n",
              "\n",
              "[1139 rows x 2 columns]"
            ]
          },
          "metadata": {
            "tags": []
          },
          "execution_count": 36
        }
      ]
    },
    {
      "cell_type": "code",
      "metadata": {
        "colab": {
          "base_uri": "https://localhost:8080/",
          "height": 419
        },
        "id": "2Xtu-077M2nF",
        "outputId": "3c9e586d-e7aa-455b-9447-559a5e3bd088"
      },
      "source": [
        "#merge 2 data score vaf Output để có thêm điểm cuối kì\n",
        "merge_result = merge_dataframe(Output, factor_score)\n",
        "merge_result"
      ],
      "execution_count": null,
      "outputs": [
        {
          "output_type": "execute_result",
          "data": {
            "text/html": [
              "<div>\n",
              "<style scoped>\n",
              "    .dataframe tbody tr th:only-of-type {\n",
              "        vertical-align: middle;\n",
              "    }\n",
              "\n",
              "    .dataframe tbody tr th {\n",
              "        vertical-align: top;\n",
              "    }\n",
              "\n",
              "    .dataframe thead th {\n",
              "        text-align: right;\n",
              "    }\n",
              "</style>\n",
              "<table border=\"1\" class=\"dataframe\">\n",
              "  <thead>\n",
              "    <tr style=\"text-align: right;\">\n",
              "      <th></th>\n",
              "      <th>user_id</th>\n",
              "      <th>Score</th>\n",
              "      <th>CK</th>\n",
              "    </tr>\n",
              "  </thead>\n",
              "  <tbody>\n",
              "    <tr>\n",
              "      <th>0</th>\n",
              "      <td>24</td>\n",
              "      <td>1940.642423</td>\n",
              "      <td>9.5</td>\n",
              "    </tr>\n",
              "    <tr>\n",
              "      <th>1</th>\n",
              "      <td>27</td>\n",
              "      <td>67.916667</td>\n",
              "      <td>10.0</td>\n",
              "    </tr>\n",
              "    <tr>\n",
              "      <th>2</th>\n",
              "      <td>29</td>\n",
              "      <td>190.247036</td>\n",
              "      <td>8.5</td>\n",
              "    </tr>\n",
              "    <tr>\n",
              "      <th>3</th>\n",
              "      <td>34</td>\n",
              "      <td>241.277426</td>\n",
              "      <td>6.5</td>\n",
              "    </tr>\n",
              "    <tr>\n",
              "      <th>4</th>\n",
              "      <td>35</td>\n",
              "      <td>358.652031</td>\n",
              "      <td>4.5</td>\n",
              "    </tr>\n",
              "    <tr>\n",
              "      <th>...</th>\n",
              "      <td>...</td>\n",
              "      <td>...</td>\n",
              "      <td>...</td>\n",
              "    </tr>\n",
              "    <tr>\n",
              "      <th>837</th>\n",
              "      <td>1856</td>\n",
              "      <td>37.432022</td>\n",
              "      <td>7.5</td>\n",
              "    </tr>\n",
              "    <tr>\n",
              "      <th>838</th>\n",
              "      <td>1857</td>\n",
              "      <td>66.182954</td>\n",
              "      <td>4.0</td>\n",
              "    </tr>\n",
              "    <tr>\n",
              "      <th>839</th>\n",
              "      <td>1859</td>\n",
              "      <td>10.594406</td>\n",
              "      <td>1.5</td>\n",
              "    </tr>\n",
              "    <tr>\n",
              "      <th>840</th>\n",
              "      <td>1862</td>\n",
              "      <td>7.616685</td>\n",
              "      <td>7.5</td>\n",
              "    </tr>\n",
              "    <tr>\n",
              "      <th>841</th>\n",
              "      <td>1865</td>\n",
              "      <td>31.534100</td>\n",
              "      <td>7.5</td>\n",
              "    </tr>\n",
              "  </tbody>\n",
              "</table>\n",
              "<p>795 rows × 3 columns</p>\n",
              "</div>"
            ],
            "text/plain": [
              "     user_id        Score    CK\n",
              "0         24  1940.642423   9.5\n",
              "1         27    67.916667  10.0\n",
              "2         29   190.247036   8.5\n",
              "3         34   241.277426   6.5\n",
              "4         35   358.652031   4.5\n",
              "..       ...          ...   ...\n",
              "837     1856    37.432022   7.5\n",
              "838     1857    66.182954   4.0\n",
              "839     1859    10.594406   1.5\n",
              "840     1862     7.616685   7.5\n",
              "841     1865    31.534100   7.5\n",
              "\n",
              "[795 rows x 3 columns]"
            ]
          },
          "metadata": {
            "tags": []
          },
          "execution_count": 37
        }
      ]
    },
    {
      "cell_type": "code",
      "metadata": {
        "colab": {
          "base_uri": "https://localhost:8080/",
          "height": 439
        },
        "id": "s8YpKVwrfDTt",
        "outputId": "0b7e8290-86f8-4ad3-98be-d9c763dd8bf7"
      },
      "source": [
        "# Vẽ biểu đồ\n",
        "scatter_plot(merge_result['Score'], merge_result['CK'], 'Tính tổng của (coefficient của bài nộp có final = 1 và pre_score = 10000) \\nchia cho số lượng user hoàn thành của problem đó của mỗi problem trên mỗi assignment')"
      ],
      "execution_count": null,
      "outputs": [
        {
          "output_type": "display_data",
          "data": {
            "image/png": "[encoded data removed]",
            "text/plain": [
              "<Figure size 720x432 with 1 Axes>"
            ]
          },
          "metadata": {
            "tags": [],
            "needs_background": "light"
          }
        }
      ]
    },
    {
      "cell_type": "markdown",
      "metadata": {
        "id": "gM-LKxDo_Y3Y"
      },
      "source": [
        "\n",
        "\n",
        "> **Nhận xét**: Tổng của (coefficient của bài nộp có final = 1 và pre_score = 10000)/ số lượng user hoàn thành của problem đó của mỗi problem trên mỗi assignment có xu hướng tăng dần theo điểm cuối kì\n",
        "\n"
      ]
    },
    {
      "cell_type": "markdown",
      "metadata": {
        "id": "d95pUTrUEbq-"
      },
      "source": [
        "### 2. Tổng max pre_score của tất cả problems trong tất cả assignments/ Tổng số problems của tất cả assignments mà mỗi user_id tham gia"
      ]
    },
    {
      "cell_type": "code",
      "metadata": {
        "colab": {
          "base_uri": "https://localhost:8080/",
          "height": 419
        },
        "id": "ru34w-P_EacD",
        "outputId": "13439389-95b0-480c-a85e-a26c61205abb"
      },
      "source": [
        "# Lọc ra cột user_id, assignment_id, problem_id và pre_score\n",
        "average_score=Input[[\"user_id\", \"assignment_id\", \"problem_id\", \"pre_score\"]]\n",
        "# Nhóm các user_id, assignment_id, problem_id rồi chọn ra max prescore\n",
        "average_score=average_score.groupby([\"user_id\",\"assignment_id\", \"problem_id\"]).max()\n",
        "# Nhóm các user_id rồi tính TB max pre_score(= Tổng max pre_score của tất cả problems trong tất cả assignments/ Tổng số problems của tất cả assignments) \n",
        "average_score=average_score.groupby([\"user_id\"]).mean()\n",
        "average_score=average_score.rename(columns = {\"pre_score\":\"average_score\"}).reset_index()\n",
        "average_score"
      ],
      "execution_count": null,
      "outputs": [
        {
          "output_type": "execute_result",
          "data": {
            "text/html": [
              "<div>\n",
              "<style scoped>\n",
              "    .dataframe tbody tr th:only-of-type {\n",
              "        vertical-align: middle;\n",
              "    }\n",
              "\n",
              "    .dataframe tbody tr th {\n",
              "        vertical-align: top;\n",
              "    }\n",
              "\n",
              "    .dataframe thead th {\n",
              "        text-align: right;\n",
              "    }\n",
              "</style>\n",
              "<table border=\"1\" class=\"dataframe\">\n",
              "  <thead>\n",
              "    <tr style=\"text-align: right;\">\n",
              "      <th></th>\n",
              "      <th>user_id</th>\n",
              "      <th>average_score</th>\n",
              "    </tr>\n",
              "  </thead>\n",
              "  <tbody>\n",
              "    <tr>\n",
              "      <th>0</th>\n",
              "      <td>1</td>\n",
              "      <td>5000.000000</td>\n",
              "    </tr>\n",
              "    <tr>\n",
              "      <th>1</th>\n",
              "      <td>4</td>\n",
              "      <td>9756.097561</td>\n",
              "    </tr>\n",
              "    <tr>\n",
              "      <th>2</th>\n",
              "      <td>5</td>\n",
              "      <td>6000.000000</td>\n",
              "    </tr>\n",
              "    <tr>\n",
              "      <th>3</th>\n",
              "      <td>6</td>\n",
              "      <td>9662.921348</td>\n",
              "    </tr>\n",
              "    <tr>\n",
              "      <th>4</th>\n",
              "      <td>7</td>\n",
              "      <td>4604.500000</td>\n",
              "    </tr>\n",
              "    <tr>\n",
              "      <th>...</th>\n",
              "      <td>...</td>\n",
              "      <td>...</td>\n",
              "    </tr>\n",
              "    <tr>\n",
              "      <th>1154</th>\n",
              "      <td>1860</td>\n",
              "      <td>6868.020833</td>\n",
              "    </tr>\n",
              "    <tr>\n",
              "      <th>1155</th>\n",
              "      <td>1862</td>\n",
              "      <td>6666.666667</td>\n",
              "    </tr>\n",
              "    <tr>\n",
              "      <th>1156</th>\n",
              "      <td>1864</td>\n",
              "      <td>6980.015873</td>\n",
              "    </tr>\n",
              "    <tr>\n",
              "      <th>1157</th>\n",
              "      <td>1865</td>\n",
              "      <td>6848.705882</td>\n",
              "    </tr>\n",
              "    <tr>\n",
              "      <th>1158</th>\n",
              "      <td>1868</td>\n",
              "      <td>10000.000000</td>\n",
              "    </tr>\n",
              "  </tbody>\n",
              "</table>\n",
              "<p>1159 rows × 2 columns</p>\n",
              "</div>"
            ],
            "text/plain": [
              "      user_id  average_score\n",
              "0           1    5000.000000\n",
              "1           4    9756.097561\n",
              "2           5    6000.000000\n",
              "3           6    9662.921348\n",
              "4           7    4604.500000\n",
              "...       ...            ...\n",
              "1154     1860    6868.020833\n",
              "1155     1862    6666.666667\n",
              "1156     1864    6980.015873\n",
              "1157     1865    6848.705882\n",
              "1158     1868   10000.000000\n",
              "\n",
              "[1159 rows x 2 columns]"
            ]
          },
          "metadata": {
            "tags": []
          },
          "execution_count": 43
        }
      ]
    },
    {
      "cell_type": "code",
      "metadata": {
        "colab": {
          "base_uri": "https://localhost:8080/",
          "height": 419
        },
        "id": "t4Dd_FK7GrxX",
        "outputId": "5bd25c54-5680-4a5d-edfd-d2751a5fa073"
      },
      "source": [
        "merge_result = merge_dataframe(Output, average_score)\n",
        "merge_result"
      ],
      "execution_count": null,
      "outputs": [
        {
          "output_type": "execute_result",
          "data": {
            "text/html": [
              "<div>\n",
              "<style scoped>\n",
              "    .dataframe tbody tr th:only-of-type {\n",
              "        vertical-align: middle;\n",
              "    }\n",
              "\n",
              "    .dataframe tbody tr th {\n",
              "        vertical-align: top;\n",
              "    }\n",
              "\n",
              "    .dataframe thead th {\n",
              "        text-align: right;\n",
              "    }\n",
              "</style>\n",
              "<table border=\"1\" class=\"dataframe\">\n",
              "  <thead>\n",
              "    <tr style=\"text-align: right;\">\n",
              "      <th></th>\n",
              "      <th>user_id</th>\n",
              "      <th>average_score</th>\n",
              "      <th>CK</th>\n",
              "    </tr>\n",
              "  </thead>\n",
              "  <tbody>\n",
              "    <tr>\n",
              "      <th>0</th>\n",
              "      <td>24</td>\n",
              "      <td>9747.423077</td>\n",
              "      <td>9.5</td>\n",
              "    </tr>\n",
              "    <tr>\n",
              "      <th>1</th>\n",
              "      <td>27</td>\n",
              "      <td>7800.000000</td>\n",
              "      <td>10.0</td>\n",
              "    </tr>\n",
              "    <tr>\n",
              "      <th>2</th>\n",
              "      <td>29</td>\n",
              "      <td>9534.500000</td>\n",
              "      <td>8.5</td>\n",
              "    </tr>\n",
              "    <tr>\n",
              "      <th>3</th>\n",
              "      <td>34</td>\n",
              "      <td>9796.285714</td>\n",
              "      <td>6.5</td>\n",
              "    </tr>\n",
              "    <tr>\n",
              "      <th>4</th>\n",
              "      <td>35</td>\n",
              "      <td>9782.894737</td>\n",
              "      <td>4.5</td>\n",
              "    </tr>\n",
              "    <tr>\n",
              "      <th>...</th>\n",
              "      <td>...</td>\n",
              "      <td>...</td>\n",
              "      <td>...</td>\n",
              "    </tr>\n",
              "    <tr>\n",
              "      <th>848</th>\n",
              "      <td>1856</td>\n",
              "      <td>8735.161290</td>\n",
              "      <td>7.5</td>\n",
              "    </tr>\n",
              "    <tr>\n",
              "      <th>849</th>\n",
              "      <td>1857</td>\n",
              "      <td>9650.000000</td>\n",
              "      <td>4.0</td>\n",
              "    </tr>\n",
              "    <tr>\n",
              "      <th>850</th>\n",
              "      <td>1859</td>\n",
              "      <td>1300.000000</td>\n",
              "      <td>1.5</td>\n",
              "    </tr>\n",
              "    <tr>\n",
              "      <th>851</th>\n",
              "      <td>1862</td>\n",
              "      <td>6666.666667</td>\n",
              "      <td>7.5</td>\n",
              "    </tr>\n",
              "    <tr>\n",
              "      <th>852</th>\n",
              "      <td>1865</td>\n",
              "      <td>6848.705882</td>\n",
              "      <td>7.5</td>\n",
              "    </tr>\n",
              "  </tbody>\n",
              "</table>\n",
              "<p>806 rows × 3 columns</p>\n",
              "</div>"
            ],
            "text/plain": [
              "     user_id  average_score    CK\n",
              "0         24    9747.423077   9.5\n",
              "1         27    7800.000000  10.0\n",
              "2         29    9534.500000   8.5\n",
              "3         34    9796.285714   6.5\n",
              "4         35    9782.894737   4.5\n",
              "..       ...            ...   ...\n",
              "848     1856    8735.161290   7.5\n",
              "849     1857    9650.000000   4.0\n",
              "850     1859    1300.000000   1.5\n",
              "851     1862    6666.666667   7.5\n",
              "852     1865    6848.705882   7.5\n",
              "\n",
              "[806 rows x 3 columns]"
            ]
          },
          "metadata": {
            "tags": []
          },
          "execution_count": 44
        }
      ]
    },
    {
      "cell_type": "code",
      "metadata": {
        "colab": {
          "base_uri": "https://localhost:8080/",
          "height": 415
        },
        "id": "pSVz-9HlHwel",
        "outputId": "f4c25f72-7de1-4677-c547-1dc2f6b70940"
      },
      "source": [
        "# Vẽ biểu đồ\n",
        "scatter_plot(merge_result['average_score'], merge_result['CK'], 'Tổng max pre_score của tất cả assignments của tất cả problems/ Tổng số assignments của tất cả problems')"
      ],
      "execution_count": null,
      "outputs": [
        {
          "output_type": "display_data",
          "data": {
            "image/png": "[encoded data removed]",
            "text/plain": [
              "<Figure size 720x432 with 1 Axes>"
            ]
          },
          "metadata": {
            "tags": [],
            "needs_background": "light"
          }
        }
      ]
    },
    {
      "cell_type": "markdown",
      "metadata": {
        "id": "uitOLTOKALqJ"
      },
      "source": [
        "\n",
        "\n",
        "> **Nhận xét**:\n",
        "- Điểm trung bình của tất cả problems của tất cả assignments mà các sinh viên tham phần lớn đều đạt từ 9000 đến 10000\n",
        "- Hầu hết sinh viên có điểm cuối kì từ 4 đến 10 đều đạt điểm trung bình từ 9000 đến 10000\n",
        "\n"
      ]
    },
    {
      "cell_type": "markdown",
      "metadata": {
        "id": "BndU1m3lgdPv"
      },
      "source": [
        "##Công thức nhóm 1: \n",
        "###Tổng số problem đã solved (is_final = 1 && pre_score=10000) / Tổng số problem có submit"
      ]
    },
    {
      "cell_type": "code",
      "metadata": {
        "id": "ayUM0A6rhcNZ",
        "colab": {
          "base_uri": "https://localhost:8080/",
          "height": 419
        },
        "outputId": "6e704b71-8e5e-481c-89b5-e66d0afcb44f"
      },
      "source": [
        "# Tổng số problem đã solved (is_final = 1 && pre_score=10000)\n",
        "total_problem_solved = Input.loc[(Input['is_final'] == 1) & (Input['pre_score'] == 10000), ['user_id', 'problem_id']]\\\n",
        "                            .groupby('user_id', as_index = False)\\\n",
        "                            .count()\n",
        "# Tổng số problem có submit\n",
        "Drop_duplicate = Input[['user_id', 'assignment_id', 'problem_id']].drop_duplicates()\n",
        "total_problem_submit = Drop_duplicate[['user_id', 'problem_id']]\\\n",
        "                            .groupby('user_id', as_index = False)\\\n",
        "                            .count()\n",
        "# merge 2 data lại\n",
        "factor_score = total_problem_solved.merge(total_problem_submit, on = 'user_id')\n",
        "# Thêm columns Score bằng tổng số problem đã solved (is_final = 1 && pre_score=10000) / tổng số problem có submit\n",
        "factor_score['Solved problem rate'] = factor_score['problem_id_x']/factor_score['problem_id_y']\n",
        "# Xoá 2 cột problem_id nảy merge dư\n",
        "factor_score.drop(columns=['problem_id_x', 'problem_id_y'], inplace=True)\n",
        "factor_score"
      ],
      "execution_count": null,
      "outputs": [
        {
          "output_type": "execute_result",
          "data": {
            "text/html": [
              "<div>\n",
              "<style scoped>\n",
              "    .dataframe tbody tr th:only-of-type {\n",
              "        vertical-align: middle;\n",
              "    }\n",
              "\n",
              "    .dataframe tbody tr th {\n",
              "        vertical-align: top;\n",
              "    }\n",
              "\n",
              "    .dataframe thead th {\n",
              "        text-align: right;\n",
              "    }\n",
              "</style>\n",
              "<table border=\"1\" class=\"dataframe\">\n",
              "  <thead>\n",
              "    <tr style=\"text-align: right;\">\n",
              "      <th></th>\n",
              "      <th>user_id</th>\n",
              "      <th>Solved problem rate</th>\n",
              "    </tr>\n",
              "  </thead>\n",
              "  <tbody>\n",
              "    <tr>\n",
              "      <th>0</th>\n",
              "      <td>1</td>\n",
              "      <td>0.500000</td>\n",
              "    </tr>\n",
              "    <tr>\n",
              "      <th>1</th>\n",
              "      <td>4</td>\n",
              "      <td>0.902439</td>\n",
              "    </tr>\n",
              "    <tr>\n",
              "      <th>2</th>\n",
              "      <td>5</td>\n",
              "      <td>0.600000</td>\n",
              "    </tr>\n",
              "    <tr>\n",
              "      <th>3</th>\n",
              "      <td>6</td>\n",
              "      <td>0.955056</td>\n",
              "    </tr>\n",
              "    <tr>\n",
              "      <th>4</th>\n",
              "      <td>11</td>\n",
              "      <td>0.473684</td>\n",
              "    </tr>\n",
              "    <tr>\n",
              "      <th>...</th>\n",
              "      <td>...</td>\n",
              "      <td>...</td>\n",
              "    </tr>\n",
              "    <tr>\n",
              "      <th>1134</th>\n",
              "      <td>1860</td>\n",
              "      <td>0.583333</td>\n",
              "    </tr>\n",
              "    <tr>\n",
              "      <th>1135</th>\n",
              "      <td>1862</td>\n",
              "      <td>0.666667</td>\n",
              "    </tr>\n",
              "    <tr>\n",
              "      <th>1136</th>\n",
              "      <td>1864</td>\n",
              "      <td>0.444444</td>\n",
              "    </tr>\n",
              "    <tr>\n",
              "      <th>1137</th>\n",
              "      <td>1865</td>\n",
              "      <td>0.588235</td>\n",
              "    </tr>\n",
              "    <tr>\n",
              "      <th>1138</th>\n",
              "      <td>1868</td>\n",
              "      <td>0.964286</td>\n",
              "    </tr>\n",
              "  </tbody>\n",
              "</table>\n",
              "<p>1139 rows × 2 columns</p>\n",
              "</div>"
            ],
            "text/plain": [
              "      user_id  Solved problem rate\n",
              "0           1             0.500000\n",
              "1           4             0.902439\n",
              "2           5             0.600000\n",
              "3           6             0.955056\n",
              "4          11             0.473684\n",
              "...       ...                  ...\n",
              "1134     1860             0.583333\n",
              "1135     1862             0.666667\n",
              "1136     1864             0.444444\n",
              "1137     1865             0.588235\n",
              "1138     1868             0.964286\n",
              "\n",
              "[1139 rows x 2 columns]"
            ]
          },
          "metadata": {
            "tags": []
          },
          "execution_count": 46
        }
      ]
    },
    {
      "cell_type": "code",
      "metadata": {
        "colab": {
          "base_uri": "https://localhost:8080/",
          "height": 419
        },
        "id": "oJ786BH2hpCq",
        "outputId": "6574c16f-139a-4469-f1bb-fdaad2c1da95"
      },
      "source": [
        "# merge 2 data score và Output để có thêm điểm cuối kì\n",
        "merge_result= merge_dataframe(Output, factor_score)\n",
        "merge_result"
      ],
      "execution_count": null,
      "outputs": [
        {
          "output_type": "execute_result",
          "data": {
            "text/html": [
              "<div>\n",
              "<style scoped>\n",
              "    .dataframe tbody tr th:only-of-type {\n",
              "        vertical-align: middle;\n",
              "    }\n",
              "\n",
              "    .dataframe tbody tr th {\n",
              "        vertical-align: top;\n",
              "    }\n",
              "\n",
              "    .dataframe thead th {\n",
              "        text-align: right;\n",
              "    }\n",
              "</style>\n",
              "<table border=\"1\" class=\"dataframe\">\n",
              "  <thead>\n",
              "    <tr style=\"text-align: right;\">\n",
              "      <th></th>\n",
              "      <th>user_id</th>\n",
              "      <th>Solved problem rate</th>\n",
              "      <th>CK</th>\n",
              "    </tr>\n",
              "  </thead>\n",
              "  <tbody>\n",
              "    <tr>\n",
              "      <th>0</th>\n",
              "      <td>24</td>\n",
              "      <td>0.923077</td>\n",
              "      <td>9.5</td>\n",
              "    </tr>\n",
              "    <tr>\n",
              "      <th>1</th>\n",
              "      <td>27</td>\n",
              "      <td>0.600000</td>\n",
              "      <td>10.0</td>\n",
              "    </tr>\n",
              "    <tr>\n",
              "      <th>2</th>\n",
              "      <td>29</td>\n",
              "      <td>0.900000</td>\n",
              "      <td>8.5</td>\n",
              "    </tr>\n",
              "    <tr>\n",
              "      <th>3</th>\n",
              "      <td>34</td>\n",
              "      <td>0.964286</td>\n",
              "      <td>6.5</td>\n",
              "    </tr>\n",
              "    <tr>\n",
              "      <th>4</th>\n",
              "      <td>35</td>\n",
              "      <td>0.953947</td>\n",
              "      <td>4.5</td>\n",
              "    </tr>\n",
              "    <tr>\n",
              "      <th>...</th>\n",
              "      <td>...</td>\n",
              "      <td>...</td>\n",
              "      <td>...</td>\n",
              "    </tr>\n",
              "    <tr>\n",
              "      <th>837</th>\n",
              "      <td>1856</td>\n",
              "      <td>0.741935</td>\n",
              "      <td>7.5</td>\n",
              "    </tr>\n",
              "    <tr>\n",
              "      <th>838</th>\n",
              "      <td>1857</td>\n",
              "      <td>0.925000</td>\n",
              "      <td>4.0</td>\n",
              "    </tr>\n",
              "    <tr>\n",
              "      <th>839</th>\n",
              "      <td>1859</td>\n",
              "      <td>0.100000</td>\n",
              "      <td>1.5</td>\n",
              "    </tr>\n",
              "    <tr>\n",
              "      <th>840</th>\n",
              "      <td>1862</td>\n",
              "      <td>0.666667</td>\n",
              "      <td>7.5</td>\n",
              "    </tr>\n",
              "    <tr>\n",
              "      <th>841</th>\n",
              "      <td>1865</td>\n",
              "      <td>0.588235</td>\n",
              "      <td>7.5</td>\n",
              "    </tr>\n",
              "  </tbody>\n",
              "</table>\n",
              "<p>795 rows × 3 columns</p>\n",
              "</div>"
            ],
            "text/plain": [
              "     user_id  Solved problem rate    CK\n",
              "0         24             0.923077   9.5\n",
              "1         27             0.600000  10.0\n",
              "2         29             0.900000   8.5\n",
              "3         34             0.964286   6.5\n",
              "4         35             0.953947   4.5\n",
              "..       ...                  ...   ...\n",
              "837     1856             0.741935   7.5\n",
              "838     1857             0.925000   4.0\n",
              "839     1859             0.100000   1.5\n",
              "840     1862             0.666667   7.5\n",
              "841     1865             0.588235   7.5\n",
              "\n",
              "[795 rows x 3 columns]"
            ]
          },
          "metadata": {
            "tags": []
          },
          "execution_count": 47
        }
      ]
    },
    {
      "cell_type": "code",
      "metadata": {
        "colab": {
          "base_uri": "https://localhost:8080/",
          "height": 415
        },
        "id": "Dz93AMdHhv6j",
        "outputId": "4adbba03-3dc9-47d7-dab2-7d63063423f6"
      },
      "source": [
        "# Vẽ biểu đồ\n",
        "scatter_plot(merge_result['Solved problem rate'], merge_result['CK'], 'Tổng số problem đã solved (is_final = 1 && pre_score=10000) / Tổng số problem có submit')"
      ],
      "execution_count": null,
      "outputs": [
        {
          "output_type": "display_data",
          "data": {
            "image/png": "[encoded data removed]",
            "text/plain": [
              "<Figure size 720x432 with 1 Axes>"
            ]
          },
          "metadata": {
            "tags": [],
            "needs_background": "light"
          }
        }
      ]
    },
    {
      "cell_type": "markdown",
      "metadata": {
        "id": "02UZjg7J-I6c"
      },
      "source": [
        "> **Nhận xét:** Tỉ lệ submit problem của sinh viên có điểm cuối kì từ 5 trở lên lớn hơn của sinh viên có điểm cuối kì dưới 5\n",
        "\n",
        "\n",
        "\n"
      ]
    },
    {
      "cell_type": "markdown",
      "metadata": {
        "id": "Pu4I3iRKhoee"
      },
      "source": [
        "##Công thức nhóm 2: \n",
        "###Tổng số problem đã submit / Tổng số submissions"
      ]
    },
    {
      "cell_type": "code",
      "metadata": {
        "id": "kvWoyKQ1hvVO",
        "colab": {
          "base_uri": "https://localhost:8080/",
          "height": 419
        },
        "outputId": "798f37bf-273b-4ecc-9506-9a54d8167f98"
      },
      "source": [
        "# Tổng số problem đã submit\n",
        "Drop_duplicate = Input[['user_id', 'assignment_id', 'problem_id']].drop_duplicates()\n",
        "total_problem_apply = Drop_duplicate[['user_id', 'problem_id']]\\\n",
        "                            .groupby('user_id', as_index = False)\\\n",
        "                            .count()\n",
        "# Tổng số submissions\n",
        "total_problem_submissions = Input[['user_id', 'id']]\\\n",
        "                            .groupby('user_id', as_index = False)\\\n",
        "                            .count()\n",
        "# merge 2 data lại\n",
        "factor_score = total_problem_apply.merge(total_problem_submissions, on = 'user_id')\n",
        "# Thêm columns Score bằng Tổng số problem đã sumbit / Tổng số submissions\n",
        "factor_score['Problem submission rate'] = factor_score['problem_id']/factor_score['id']\n",
        "# Xoá 2 cột nảy merge dư\n",
        "factor_score.drop(columns=['problem_id', 'id'], inplace=True)\n",
        "factor_score"
      ],
      "execution_count": null,
      "outputs": [
        {
          "output_type": "execute_result",
          "data": {
            "text/html": [
              "<div>\n",
              "<style scoped>\n",
              "    .dataframe tbody tr th:only-of-type {\n",
              "        vertical-align: middle;\n",
              "    }\n",
              "\n",
              "    .dataframe tbody tr th {\n",
              "        vertical-align: top;\n",
              "    }\n",
              "\n",
              "    .dataframe thead th {\n",
              "        text-align: right;\n",
              "    }\n",
              "</style>\n",
              "<table border=\"1\" class=\"dataframe\">\n",
              "  <thead>\n",
              "    <tr style=\"text-align: right;\">\n",
              "      <th></th>\n",
              "      <th>user_id</th>\n",
              "      <th>Problem submission rate</th>\n",
              "    </tr>\n",
              "  </thead>\n",
              "  <tbody>\n",
              "    <tr>\n",
              "      <th>0</th>\n",
              "      <td>1</td>\n",
              "      <td>1.000000</td>\n",
              "    </tr>\n",
              "    <tr>\n",
              "      <th>1</th>\n",
              "      <td>4</td>\n",
              "      <td>0.759259</td>\n",
              "    </tr>\n",
              "    <tr>\n",
              "      <th>2</th>\n",
              "      <td>5</td>\n",
              "      <td>0.833333</td>\n",
              "    </tr>\n",
              "    <tr>\n",
              "      <th>3</th>\n",
              "      <td>6</td>\n",
              "      <td>0.684615</td>\n",
              "    </tr>\n",
              "    <tr>\n",
              "      <th>4</th>\n",
              "      <td>7</td>\n",
              "      <td>0.400000</td>\n",
              "    </tr>\n",
              "    <tr>\n",
              "      <th>...</th>\n",
              "      <td>...</td>\n",
              "      <td>...</td>\n",
              "    </tr>\n",
              "    <tr>\n",
              "      <th>1154</th>\n",
              "      <td>1860</td>\n",
              "      <td>0.631579</td>\n",
              "    </tr>\n",
              "    <tr>\n",
              "      <th>1155</th>\n",
              "      <td>1862</td>\n",
              "      <td>0.500000</td>\n",
              "    </tr>\n",
              "    <tr>\n",
              "      <th>1156</th>\n",
              "      <td>1864</td>\n",
              "      <td>0.336898</td>\n",
              "    </tr>\n",
              "    <tr>\n",
              "      <th>1157</th>\n",
              "      <td>1865</td>\n",
              "      <td>0.171717</td>\n",
              "    </tr>\n",
              "    <tr>\n",
              "      <th>1158</th>\n",
              "      <td>1868</td>\n",
              "      <td>0.595745</td>\n",
              "    </tr>\n",
              "  </tbody>\n",
              "</table>\n",
              "<p>1159 rows × 2 columns</p>\n",
              "</div>"
            ],
            "text/plain": [
              "      user_id  Problem submission rate\n",
              "0           1                 1.000000\n",
              "1           4                 0.759259\n",
              "2           5                 0.833333\n",
              "3           6                 0.684615\n",
              "4           7                 0.400000\n",
              "...       ...                      ...\n",
              "1154     1860                 0.631579\n",
              "1155     1862                 0.500000\n",
              "1156     1864                 0.336898\n",
              "1157     1865                 0.171717\n",
              "1158     1868                 0.595745\n",
              "\n",
              "[1159 rows x 2 columns]"
            ]
          },
          "metadata": {
            "tags": []
          },
          "execution_count": 49
        }
      ]
    },
    {
      "cell_type": "code",
      "metadata": {
        "colab": {
          "base_uri": "https://localhost:8080/",
          "height": 419
        },
        "id": "4YTb-KJsnI0w",
        "outputId": "fd14628f-87a2-4043-f480-7458b2bb571a"
      },
      "source": [
        "# merge 2 data score vaf Output để có thêm điểm cuối kì\n",
        "merge_result = merge_dataframe(Output, factor_score)\n",
        "merge_result"
      ],
      "execution_count": null,
      "outputs": [
        {
          "output_type": "execute_result",
          "data": {
            "text/html": [
              "<div>\n",
              "<style scoped>\n",
              "    .dataframe tbody tr th:only-of-type {\n",
              "        vertical-align: middle;\n",
              "    }\n",
              "\n",
              "    .dataframe tbody tr th {\n",
              "        vertical-align: top;\n",
              "    }\n",
              "\n",
              "    .dataframe thead th {\n",
              "        text-align: right;\n",
              "    }\n",
              "</style>\n",
              "<table border=\"1\" class=\"dataframe\">\n",
              "  <thead>\n",
              "    <tr style=\"text-align: right;\">\n",
              "      <th></th>\n",
              "      <th>user_id</th>\n",
              "      <th>Problem submission rate</th>\n",
              "      <th>CK</th>\n",
              "    </tr>\n",
              "  </thead>\n",
              "  <tbody>\n",
              "    <tr>\n",
              "      <th>0</th>\n",
              "      <td>24</td>\n",
              "      <td>0.475610</td>\n",
              "      <td>9.5</td>\n",
              "    </tr>\n",
              "    <tr>\n",
              "      <th>1</th>\n",
              "      <td>27</td>\n",
              "      <td>0.384615</td>\n",
              "      <td>10.0</td>\n",
              "    </tr>\n",
              "    <tr>\n",
              "      <th>2</th>\n",
              "      <td>29</td>\n",
              "      <td>0.402010</td>\n",
              "      <td>8.5</td>\n",
              "    </tr>\n",
              "    <tr>\n",
              "      <th>3</th>\n",
              "      <td>34</td>\n",
              "      <td>0.385321</td>\n",
              "      <td>6.5</td>\n",
              "    </tr>\n",
              "    <tr>\n",
              "      <th>4</th>\n",
              "      <td>35</td>\n",
              "      <td>0.511785</td>\n",
              "      <td>4.5</td>\n",
              "    </tr>\n",
              "    <tr>\n",
              "      <th>...</th>\n",
              "      <td>...</td>\n",
              "      <td>...</td>\n",
              "      <td>...</td>\n",
              "    </tr>\n",
              "    <tr>\n",
              "      <th>848</th>\n",
              "      <td>1856</td>\n",
              "      <td>0.484375</td>\n",
              "      <td>7.5</td>\n",
              "    </tr>\n",
              "    <tr>\n",
              "      <th>849</th>\n",
              "      <td>1857</td>\n",
              "      <td>0.727273</td>\n",
              "      <td>4.0</td>\n",
              "    </tr>\n",
              "    <tr>\n",
              "      <th>850</th>\n",
              "      <td>1859</td>\n",
              "      <td>0.967742</td>\n",
              "      <td>1.5</td>\n",
              "    </tr>\n",
              "    <tr>\n",
              "      <th>851</th>\n",
              "      <td>1862</td>\n",
              "      <td>0.500000</td>\n",
              "      <td>7.5</td>\n",
              "    </tr>\n",
              "    <tr>\n",
              "      <th>852</th>\n",
              "      <td>1865</td>\n",
              "      <td>0.171717</td>\n",
              "      <td>7.5</td>\n",
              "    </tr>\n",
              "  </tbody>\n",
              "</table>\n",
              "<p>806 rows × 3 columns</p>\n",
              "</div>"
            ],
            "text/plain": [
              "     user_id  Problem submission rate    CK\n",
              "0         24                 0.475610   9.5\n",
              "1         27                 0.384615  10.0\n",
              "2         29                 0.402010   8.5\n",
              "3         34                 0.385321   6.5\n",
              "4         35                 0.511785   4.5\n",
              "..       ...                      ...   ...\n",
              "848     1856                 0.484375   7.5\n",
              "849     1857                 0.727273   4.0\n",
              "850     1859                 0.967742   1.5\n",
              "851     1862                 0.500000   7.5\n",
              "852     1865                 0.171717   7.5\n",
              "\n",
              "[806 rows x 3 columns]"
            ]
          },
          "metadata": {
            "tags": []
          },
          "execution_count": 50
        }
      ]
    },
    {
      "cell_type": "code",
      "metadata": {
        "colab": {
          "base_uri": "https://localhost:8080/",
          "height": 415
        },
        "id": "xspRM6JznmQ7",
        "outputId": "02f11ace-dba3-47c6-d1d0-7e83e1bd3c54"
      },
      "source": [
        "# Vẽ biểu đồ\n",
        "scatter_plot(merge_result['Problem submission rate'], merge_result['CK'], 'Tổng số problem đã submit / Tổng số submissions')"
      ],
      "execution_count": null,
      "outputs": [
        {
          "output_type": "display_data",
          "data": {
            "image/png": "[encoded data removed]",
            "text/plain": [
              "<Figure size 720x432 with 1 Axes>"
            ]
          },
          "metadata": {
            "tags": [],
            "needs_background": "light"
          }
        }
      ]
    },
    {
      "cell_type": "markdown",
      "metadata": {
        "id": "a9trLZKFCAnh"
      },
      "source": [
        "> **Nhận xét:** \n",
        "- Tổng số problem đã submit / Tổng số submissions của các sinh viên chủ yếu từ 0.2 đến 0.7\n",
        "- Tổng số problem đã submit / Tổng số submissions của các sinh viên có điểm CK từ 5 trở lên lớn hơn của sinh viên có điểm CK nhỏ hơn 5\n",
        "\n"
      ]
    },
    {
      "cell_type": "markdown",
      "metadata": {
        "id": "RPve3Ncthv2x"
      },
      "source": [
        "##Công thức nhóm 3: \n",
        "###Số lần submit đúng (pre_score=10000) / tổng số submissions "
      ]
    },
    {
      "cell_type": "code",
      "metadata": {
        "id": "PnC7R8KSh2D7",
        "colab": {
          "base_uri": "https://localhost:8080/",
          "height": 419
        },
        "outputId": "d3b10406-68f0-438b-ecfc-e77e07507b4a"
      },
      "source": [
        "#Số lần submit đúng (pre_score=10000)\n",
        "total_problem_correct = Input.loc[(Input['pre_score'] == 10000), ['user_id', 'pre_score']]\\\n",
        "                            .groupby('user_id', as_index = False)\\\n",
        "                            .count()\n",
        "#Tổng số submissions\n",
        "total_problem_submissions = Input[['user_id', 'id']]\\\n",
        "                            .groupby('user_id', as_index = False)\\\n",
        "                            .count()\n",
        "#merge 2 data lại\n",
        "factor_score = total_problem_correct.merge(total_problem_submissions, on = 'user_id')\n",
        "#Thêm columns Score bằng Tổng số problem đã sumbit / Tổng số submissions\n",
        "factor_score['Correct submission rate'] = factor_score['pre_score']/factor_score['id']\n",
        "#Xoá 2 cột nảy merge dư\n",
        "factor_score.drop(columns=['pre_score', 'id'], inplace=True)\n",
        "factor_score"
      ],
      "execution_count": null,
      "outputs": [
        {
          "output_type": "execute_result",
          "data": {
            "text/html": [
              "<div>\n",
              "<style scoped>\n",
              "    .dataframe tbody tr th:only-of-type {\n",
              "        vertical-align: middle;\n",
              "    }\n",
              "\n",
              "    .dataframe tbody tr th {\n",
              "        vertical-align: top;\n",
              "    }\n",
              "\n",
              "    .dataframe thead th {\n",
              "        text-align: right;\n",
              "    }\n",
              "</style>\n",
              "<table border=\"1\" class=\"dataframe\">\n",
              "  <thead>\n",
              "    <tr style=\"text-align: right;\">\n",
              "      <th></th>\n",
              "      <th>user_id</th>\n",
              "      <th>Correct submission rate</th>\n",
              "    </tr>\n",
              "  </thead>\n",
              "  <tbody>\n",
              "    <tr>\n",
              "      <th>0</th>\n",
              "      <td>1</td>\n",
              "      <td>0.500000</td>\n",
              "    </tr>\n",
              "    <tr>\n",
              "      <th>1</th>\n",
              "      <td>4</td>\n",
              "      <td>0.814815</td>\n",
              "    </tr>\n",
              "    <tr>\n",
              "      <th>2</th>\n",
              "      <td>5</td>\n",
              "      <td>0.500000</td>\n",
              "    </tr>\n",
              "    <tr>\n",
              "      <th>3</th>\n",
              "      <td>6</td>\n",
              "      <td>0.684615</td>\n",
              "    </tr>\n",
              "    <tr>\n",
              "      <th>4</th>\n",
              "      <td>11</td>\n",
              "      <td>0.380000</td>\n",
              "    </tr>\n",
              "    <tr>\n",
              "      <th>...</th>\n",
              "      <td>...</td>\n",
              "      <td>...</td>\n",
              "    </tr>\n",
              "    <tr>\n",
              "      <th>1134</th>\n",
              "      <td>1860</td>\n",
              "      <td>0.381579</td>\n",
              "    </tr>\n",
              "    <tr>\n",
              "      <th>1135</th>\n",
              "      <td>1862</td>\n",
              "      <td>0.333333</td>\n",
              "    </tr>\n",
              "    <tr>\n",
              "      <th>1136</th>\n",
              "      <td>1864</td>\n",
              "      <td>0.160428</td>\n",
              "    </tr>\n",
              "    <tr>\n",
              "      <th>1137</th>\n",
              "      <td>1865</td>\n",
              "      <td>0.101010</td>\n",
              "    </tr>\n",
              "    <tr>\n",
              "      <th>1138</th>\n",
              "      <td>1868</td>\n",
              "      <td>0.808511</td>\n",
              "    </tr>\n",
              "  </tbody>\n",
              "</table>\n",
              "<p>1139 rows × 2 columns</p>\n",
              "</div>"
            ],
            "text/plain": [
              "      user_id  Correct submission rate\n",
              "0           1                 0.500000\n",
              "1           4                 0.814815\n",
              "2           5                 0.500000\n",
              "3           6                 0.684615\n",
              "4          11                 0.380000\n",
              "...       ...                      ...\n",
              "1134     1860                 0.381579\n",
              "1135     1862                 0.333333\n",
              "1136     1864                 0.160428\n",
              "1137     1865                 0.101010\n",
              "1138     1868                 0.808511\n",
              "\n",
              "[1139 rows x 2 columns]"
            ]
          },
          "metadata": {
            "tags": []
          },
          "execution_count": 52
        }
      ]
    },
    {
      "cell_type": "code",
      "metadata": {
        "colab": {
          "base_uri": "https://localhost:8080/",
          "height": 419
        },
        "id": "iuzXlvR1opS0",
        "outputId": "c4faa765-b389-4569-dbff-c0b2237e87bb"
      },
      "source": [
        "#merge 2 data score vaf Output để có thêm điểm cuối kì\n",
        "merge_result = merge_dataframe(Output, factor_score)\n",
        "merge_result"
      ],
      "execution_count": null,
      "outputs": [
        {
          "output_type": "execute_result",
          "data": {
            "text/html": [
              "<div>\n",
              "<style scoped>\n",
              "    .dataframe tbody tr th:only-of-type {\n",
              "        vertical-align: middle;\n",
              "    }\n",
              "\n",
              "    .dataframe tbody tr th {\n",
              "        vertical-align: top;\n",
              "    }\n",
              "\n",
              "    .dataframe thead th {\n",
              "        text-align: right;\n",
              "    }\n",
              "</style>\n",
              "<table border=\"1\" class=\"dataframe\">\n",
              "  <thead>\n",
              "    <tr style=\"text-align: right;\">\n",
              "      <th></th>\n",
              "      <th>user_id</th>\n",
              "      <th>Correct submission rate</th>\n",
              "      <th>CK</th>\n",
              "    </tr>\n",
              "  </thead>\n",
              "  <tbody>\n",
              "    <tr>\n",
              "      <th>0</th>\n",
              "      <td>24</td>\n",
              "      <td>0.487805</td>\n",
              "      <td>9.5</td>\n",
              "    </tr>\n",
              "    <tr>\n",
              "      <th>1</th>\n",
              "      <td>27</td>\n",
              "      <td>0.307692</td>\n",
              "      <td>10.0</td>\n",
              "    </tr>\n",
              "    <tr>\n",
              "      <th>2</th>\n",
              "      <td>29</td>\n",
              "      <td>0.376884</td>\n",
              "      <td>8.5</td>\n",
              "    </tr>\n",
              "    <tr>\n",
              "      <th>3</th>\n",
              "      <td>34</td>\n",
              "      <td>0.371560</td>\n",
              "      <td>6.5</td>\n",
              "    </tr>\n",
              "    <tr>\n",
              "      <th>4</th>\n",
              "      <td>35</td>\n",
              "      <td>0.511785</td>\n",
              "      <td>4.5</td>\n",
              "    </tr>\n",
              "    <tr>\n",
              "      <th>...</th>\n",
              "      <td>...</td>\n",
              "      <td>...</td>\n",
              "      <td>...</td>\n",
              "    </tr>\n",
              "    <tr>\n",
              "      <th>837</th>\n",
              "      <td>1856</td>\n",
              "      <td>0.359375</td>\n",
              "      <td>7.5</td>\n",
              "    </tr>\n",
              "    <tr>\n",
              "      <th>838</th>\n",
              "      <td>1857</td>\n",
              "      <td>0.672727</td>\n",
              "      <td>4.0</td>\n",
              "    </tr>\n",
              "    <tr>\n",
              "      <th>839</th>\n",
              "      <td>1859</td>\n",
              "      <td>0.096774</td>\n",
              "      <td>1.5</td>\n",
              "    </tr>\n",
              "    <tr>\n",
              "      <th>840</th>\n",
              "      <td>1862</td>\n",
              "      <td>0.333333</td>\n",
              "      <td>7.5</td>\n",
              "    </tr>\n",
              "    <tr>\n",
              "      <th>841</th>\n",
              "      <td>1865</td>\n",
              "      <td>0.101010</td>\n",
              "      <td>7.5</td>\n",
              "    </tr>\n",
              "  </tbody>\n",
              "</table>\n",
              "<p>795 rows × 3 columns</p>\n",
              "</div>"
            ],
            "text/plain": [
              "     user_id  Correct submission rate    CK\n",
              "0         24                 0.487805   9.5\n",
              "1         27                 0.307692  10.0\n",
              "2         29                 0.376884   8.5\n",
              "3         34                 0.371560   6.5\n",
              "4         35                 0.511785   4.5\n",
              "..       ...                      ...   ...\n",
              "837     1856                 0.359375   7.5\n",
              "838     1857                 0.672727   4.0\n",
              "839     1859                 0.096774   1.5\n",
              "840     1862                 0.333333   7.5\n",
              "841     1865                 0.101010   7.5\n",
              "\n",
              "[795 rows x 3 columns]"
            ]
          },
          "metadata": {
            "tags": []
          },
          "execution_count": 53
        }
      ]
    },
    {
      "cell_type": "code",
      "metadata": {
        "colab": {
          "base_uri": "https://localhost:8080/",
          "height": 415
        },
        "id": "X8-fHi7dorcC",
        "outputId": "98cd884f-129e-4835-cdc5-5e19dd38cad6"
      },
      "source": [
        "# Vẽ biểu đồ'\n",
        "scatter_plot(merge_result['Correct submission rate'], merge_result['CK'], 'Số lần submit đúng (pre_score=10000) / tổng số submissions')"
      ],
      "execution_count": null,
      "outputs": [
        {
          "output_type": "display_data",
          "data": {
            "image/png": "[encoded data removed]",
            "text/plain": [
              "<Figure size 720x432 with 1 Axes>"
            ]
          },
          "metadata": {
            "tags": [],
            "needs_background": "light"
          }
        }
      ]
    },
    {
      "cell_type": "markdown",
      "metadata": {
        "id": "De6AABPeDGi7"
      },
      "source": [
        "\n",
        "\n",
        "> **Nhận xét:** \n",
        "- Tỉ lệ submt đúng của các sinh viên chủ yếu từ 0.2 đến 0.7\n",
        "- Tỉ lệ submt đúng của các sinh viên có điểm CK từ 5 trở lên lớn hơn của sinh viên có điểm CK nhỏ hơn 5\n",
        "\n"
      ]
    },
    {
      "cell_type": "markdown",
      "metadata": {
        "id": "Ie01m4CKh2hl"
      },
      "source": [
        "##Công thức nhóm 4: \n",
        "###Tổng pre_score của các submssion có is_final = 1"
      ]
    },
    {
      "cell_type": "code",
      "metadata": {
        "id": "-wM8OS6ih8od",
        "colab": {
          "base_uri": "https://localhost:8080/",
          "height": 419
        },
        "outputId": "c676c1d5-67a8-4ebd-cff4-8861e8500e32"
      },
      "source": [
        "#Tổng số problem đã solved (is_final = 1 && pre_score=10000)\n",
        "total_pre_score = Input.loc[(Input['is_final'] == 1), ['user_id', 'pre_score']]\\\n",
        "                            .groupby('user_id', as_index = False)\\\n",
        "                            .sum()\n",
        "total_pre_score.rename(columns={'pre_score': 'Total score'}, inplace=True)\n",
        "total_pre_score"
      ],
      "execution_count": null,
      "outputs": [
        {
          "output_type": "execute_result",
          "data": {
            "text/html": [
              "<div>\n",
              "<style scoped>\n",
              "    .dataframe tbody tr th:only-of-type {\n",
              "        vertical-align: middle;\n",
              "    }\n",
              "\n",
              "    .dataframe tbody tr th {\n",
              "        vertical-align: top;\n",
              "    }\n",
              "\n",
              "    .dataframe thead th {\n",
              "        text-align: right;\n",
              "    }\n",
              "</style>\n",
              "<table border=\"1\" class=\"dataframe\">\n",
              "  <thead>\n",
              "    <tr style=\"text-align: right;\">\n",
              "      <th></th>\n",
              "      <th>user_id</th>\n",
              "      <th>Total score</th>\n",
              "    </tr>\n",
              "  </thead>\n",
              "  <tbody>\n",
              "    <tr>\n",
              "      <th>0</th>\n",
              "      <td>1</td>\n",
              "      <td>10000</td>\n",
              "    </tr>\n",
              "    <tr>\n",
              "      <th>1</th>\n",
              "      <td>4</td>\n",
              "      <td>370000</td>\n",
              "    </tr>\n",
              "    <tr>\n",
              "      <th>2</th>\n",
              "      <td>5</td>\n",
              "      <td>30000</td>\n",
              "    </tr>\n",
              "    <tr>\n",
              "      <th>3</th>\n",
              "      <td>6</td>\n",
              "      <td>850000</td>\n",
              "    </tr>\n",
              "    <tr>\n",
              "      <th>4</th>\n",
              "      <td>7</td>\n",
              "      <td>9209</td>\n",
              "    </tr>\n",
              "    <tr>\n",
              "      <th>...</th>\n",
              "      <td>...</td>\n",
              "      <td>...</td>\n",
              "    </tr>\n",
              "    <tr>\n",
              "      <th>1152</th>\n",
              "      <td>1860</td>\n",
              "      <td>329665</td>\n",
              "    </tr>\n",
              "    <tr>\n",
              "      <th>1153</th>\n",
              "      <td>1862</td>\n",
              "      <td>40000</td>\n",
              "    </tr>\n",
              "    <tr>\n",
              "      <th>1154</th>\n",
              "      <td>1864</td>\n",
              "      <td>439741</td>\n",
              "    </tr>\n",
              "    <tr>\n",
              "      <th>1155</th>\n",
              "      <td>1865</td>\n",
              "      <td>116428</td>\n",
              "    </tr>\n",
              "    <tr>\n",
              "      <th>1156</th>\n",
              "      <td>1868</td>\n",
              "      <td>270000</td>\n",
              "    </tr>\n",
              "  </tbody>\n",
              "</table>\n",
              "<p>1157 rows × 2 columns</p>\n",
              "</div>"
            ],
            "text/plain": [
              "      user_id  Total score\n",
              "0           1        10000\n",
              "1           4       370000\n",
              "2           5        30000\n",
              "3           6       850000\n",
              "4           7         9209\n",
              "...       ...          ...\n",
              "1152     1860       329665\n",
              "1153     1862        40000\n",
              "1154     1864       439741\n",
              "1155     1865       116428\n",
              "1156     1868       270000\n",
              "\n",
              "[1157 rows x 2 columns]"
            ]
          },
          "metadata": {
            "tags": []
          },
          "execution_count": 55
        }
      ]
    },
    {
      "cell_type": "code",
      "metadata": {
        "colab": {
          "base_uri": "https://localhost:8080/",
          "height": 419
        },
        "id": "T6HaEjXkrEAu",
        "outputId": "0f020350-e770-41a9-f096-6f24e82e1cce"
      },
      "source": [
        "#merge 2 data score và Output để có thêm điểm cuối kì\n",
        "merge_result = merge_dataframe(Output, total_pre_score)\n",
        "merge_result"
      ],
      "execution_count": null,
      "outputs": [
        {
          "output_type": "execute_result",
          "data": {
            "text/html": [
              "<div>\n",
              "<style scoped>\n",
              "    .dataframe tbody tr th:only-of-type {\n",
              "        vertical-align: middle;\n",
              "    }\n",
              "\n",
              "    .dataframe tbody tr th {\n",
              "        vertical-align: top;\n",
              "    }\n",
              "\n",
              "    .dataframe thead th {\n",
              "        text-align: right;\n",
              "    }\n",
              "</style>\n",
              "<table border=\"1\" class=\"dataframe\">\n",
              "  <thead>\n",
              "    <tr style=\"text-align: right;\">\n",
              "      <th></th>\n",
              "      <th>user_id</th>\n",
              "      <th>Total score</th>\n",
              "      <th>CK</th>\n",
              "    </tr>\n",
              "  </thead>\n",
              "  <tbody>\n",
              "    <tr>\n",
              "      <th>0</th>\n",
              "      <td>24</td>\n",
              "      <td>750299</td>\n",
              "      <td>9.5</td>\n",
              "    </tr>\n",
              "    <tr>\n",
              "      <th>1</th>\n",
              "      <td>27</td>\n",
              "      <td>39000</td>\n",
              "      <td>10.0</td>\n",
              "    </tr>\n",
              "    <tr>\n",
              "      <th>2</th>\n",
              "      <td>29</td>\n",
              "      <td>762760</td>\n",
              "      <td>8.5</td>\n",
              "    </tr>\n",
              "    <tr>\n",
              "      <th>3</th>\n",
              "      <td>34</td>\n",
              "      <td>822888</td>\n",
              "      <td>6.5</td>\n",
              "    </tr>\n",
              "    <tr>\n",
              "      <th>4</th>\n",
              "      <td>35</td>\n",
              "      <td>1477000</td>\n",
              "      <td>4.5</td>\n",
              "    </tr>\n",
              "    <tr>\n",
              "      <th>...</th>\n",
              "      <td>...</td>\n",
              "      <td>...</td>\n",
              "      <td>...</td>\n",
              "    </tr>\n",
              "    <tr>\n",
              "      <th>847</th>\n",
              "      <td>1856</td>\n",
              "      <td>270790</td>\n",
              "      <td>7.5</td>\n",
              "    </tr>\n",
              "    <tr>\n",
              "      <th>848</th>\n",
              "      <td>1857</td>\n",
              "      <td>386000</td>\n",
              "      <td>4.0</td>\n",
              "    </tr>\n",
              "    <tr>\n",
              "      <th>849</th>\n",
              "      <td>1859</td>\n",
              "      <td>39000</td>\n",
              "      <td>1.5</td>\n",
              "    </tr>\n",
              "    <tr>\n",
              "      <th>850</th>\n",
              "      <td>1862</td>\n",
              "      <td>40000</td>\n",
              "      <td>7.5</td>\n",
              "    </tr>\n",
              "    <tr>\n",
              "      <th>851</th>\n",
              "      <td>1865</td>\n",
              "      <td>116428</td>\n",
              "      <td>7.5</td>\n",
              "    </tr>\n",
              "  </tbody>\n",
              "</table>\n",
              "<p>805 rows × 3 columns</p>\n",
              "</div>"
            ],
            "text/plain": [
              "     user_id  Total score    CK\n",
              "0         24       750299   9.5\n",
              "1         27        39000  10.0\n",
              "2         29       762760   8.5\n",
              "3         34       822888   6.5\n",
              "4         35      1477000   4.5\n",
              "..       ...          ...   ...\n",
              "847     1856       270790   7.5\n",
              "848     1857       386000   4.0\n",
              "849     1859        39000   1.5\n",
              "850     1862        40000   7.5\n",
              "851     1865       116428   7.5\n",
              "\n",
              "[805 rows x 3 columns]"
            ]
          },
          "metadata": {
            "tags": []
          },
          "execution_count": 56
        }
      ]
    },
    {
      "cell_type": "code",
      "metadata": {
        "colab": {
          "base_uri": "https://localhost:8080/",
          "height": 415
        },
        "id": "y0ryeAhtrkD_",
        "outputId": "d3cbfe47-10e1-48f3-f895-696610334c78"
      },
      "source": [
        "# Vẽ biểu đồ'\n",
        "scatter_plot(merge_result['Total score'], merge_result['CK'], 'Tổng pre_score của các submssion có is_final = 1')"
      ],
      "execution_count": null,
      "outputs": [
        {
          "output_type": "display_data",
          "data": {
            "image/png": "[encoded data removed]",
            "text/plain": [
              "<Figure size 720x432 with 1 Axes>"
            ]
          },
          "metadata": {
            "tags": [],
            "needs_background": "light"
          }
        }
      ]
    },
    {
      "cell_type": "markdown",
      "metadata": {
        "id": "kqoij4oTDNME"
      },
      "source": [
        "\n",
        "\n",
        "> **Nhận xét:** Tổng prescore có final = 1 có xu hướng tăng dần theo điểm cuối kì\n",
        "\n"
      ]
    },
    {
      "cell_type": "markdown",
      "metadata": {
        "id": "WNqB9WECh9MH"
      },
      "source": [
        "##Công thức nhóm 5: \n",
        "###Trung bình cộng của Tỷ lệ: problem đã submit/số lượng problem của mỗi assignments "
      ]
    },
    {
      "cell_type": "code",
      "metadata": {
        "id": "3tyG3IjEiDOV",
        "colab": {
          "base_uri": "https://localhost:8080/",
          "height": 419
        },
        "outputId": "2f5bd333-6238-4887-f63f-f87cee59ec4e"
      },
      "source": [
        "#Tính tổng số problem trong mỗi assigment\n",
        "p=Input[['assignment_id', 'problem_id']]\n",
        "sl_prob=p.groupby('assignment_id').nunique()\n",
        "x=Input[['user_id','assignment_id','problem_id']]\n",
        "sl_submit=x.groupby(['user_id','assignment_id']).nunique()\n",
        "assign_uni=Input['assignment_id'].unique()\n",
        "assign_uni.sort()\n",
        "s1=pd.Series(assign_uni,name='assignment_id')\n",
        "s2=pd.Series(np.array(sl_prob['problem_id']),name='problem_id')\n",
        "sl_prob2=pd.concat([s1,s2],axis=1)\n",
        "sl_prob2"
      ],
      "execution_count": null,
      "outputs": [
        {
          "output_type": "execute_result",
          "data": {
            "text/html": [
              "<div>\n",
              "<style scoped>\n",
              "    .dataframe tbody tr th:only-of-type {\n",
              "        vertical-align: middle;\n",
              "    }\n",
              "\n",
              "    .dataframe tbody tr th {\n",
              "        vertical-align: top;\n",
              "    }\n",
              "\n",
              "    .dataframe thead th {\n",
              "        text-align: right;\n",
              "    }\n",
              "</style>\n",
              "<table border=\"1\" class=\"dataframe\">\n",
              "  <thead>\n",
              "    <tr style=\"text-align: right;\">\n",
              "      <th></th>\n",
              "      <th>assignment_id</th>\n",
              "      <th>problem_id</th>\n",
              "    </tr>\n",
              "  </thead>\n",
              "  <tbody>\n",
              "    <tr>\n",
              "      <th>0</th>\n",
              "      <td>0</td>\n",
              "      <td>352</td>\n",
              "    </tr>\n",
              "    <tr>\n",
              "      <th>1</th>\n",
              "      <td>5</td>\n",
              "      <td>4</td>\n",
              "    </tr>\n",
              "    <tr>\n",
              "      <th>2</th>\n",
              "      <td>7</td>\n",
              "      <td>10</td>\n",
              "    </tr>\n",
              "    <tr>\n",
              "      <th>3</th>\n",
              "      <td>8</td>\n",
              "      <td>8</td>\n",
              "    </tr>\n",
              "    <tr>\n",
              "      <th>4</th>\n",
              "      <td>10</td>\n",
              "      <td>7</td>\n",
              "    </tr>\n",
              "    <tr>\n",
              "      <th>...</th>\n",
              "      <td>...</td>\n",
              "      <td>...</td>\n",
              "    </tr>\n",
              "    <tr>\n",
              "      <th>285</th>\n",
              "      <td>376</td>\n",
              "      <td>10</td>\n",
              "    </tr>\n",
              "    <tr>\n",
              "      <th>286</th>\n",
              "      <td>377</td>\n",
              "      <td>7</td>\n",
              "    </tr>\n",
              "    <tr>\n",
              "      <th>287</th>\n",
              "      <td>381</td>\n",
              "      <td>4</td>\n",
              "    </tr>\n",
              "    <tr>\n",
              "      <th>288</th>\n",
              "      <td>383</td>\n",
              "      <td>47</td>\n",
              "    </tr>\n",
              "    <tr>\n",
              "      <th>289</th>\n",
              "      <td>384</td>\n",
              "      <td>4</td>\n",
              "    </tr>\n",
              "  </tbody>\n",
              "</table>\n",
              "<p>290 rows × 2 columns</p>\n",
              "</div>"
            ],
            "text/plain": [
              "     assignment_id  problem_id\n",
              "0                0         352\n",
              "1                5           4\n",
              "2                7          10\n",
              "3                8           8\n",
              "4               10           7\n",
              "..             ...         ...\n",
              "285            376          10\n",
              "286            377           7\n",
              "287            381           4\n",
              "288            383          47\n",
              "289            384           4\n",
              "\n",
              "[290 rows x 2 columns]"
            ]
          },
          "metadata": {
            "tags": []
          },
          "execution_count": 58
        }
      ]
    },
    {
      "cell_type": "code",
      "metadata": {
        "id": "Fm07mtJlSKA-"
      },
      "source": [
        "#Tính tổng số problem trong mỗi assigment \n",
        "p=Input[['assignment_id', 'problem_id']]\n",
        "sl_prob=p.groupby('assignment_id').nunique()\n",
        "sl_prob=sl_prob.reset_index()\n",
        "x=Input[['user_id','assignment_id','problem_id']]\n",
        "sl_submit=x.groupby(['user_id','assignment_id']).nunique()\n",
        "sl_submit=sl_submit.reset_index()\n",
        "sl_prob.columns=['assignment_id','total_problem']\n",
        "sl_submit.columns=['user_id','assignment_id','problem_submited']\n",
        "a=pd.merge(sl_prob,sl_submit,how='left',on=['assignment_id'])"
      ],
      "execution_count": null,
      "outputs": []
    },
    {
      "cell_type": "code",
      "metadata": {
        "colab": {
          "base_uri": "https://localhost:8080/",
          "height": 419
        },
        "id": "6nE7QO-K6syJ",
        "outputId": "25849599-c577-472e-a153-aa7b19b81860"
      },
      "source": [
        "#Tính phần trăm mà user làm được trong mỗi assignment\n",
        "percent=pd.Series(a['problem_submited']/a['total_problem'], name='percent_in_assignment')\n",
        "b=pd.concat([a,percent],axis=1)\n",
        "c=b.groupby('user_id').mean()\n",
        "c=c.reset_index()\n",
        "c=c[['user_id','percent_in_assignment']]\n",
        "c.columns=['user_id','mean_percent_all_assignment']\n",
        "c"
      ],
      "execution_count": null,
      "outputs": [
        {
          "output_type": "execute_result",
          "data": {
            "text/html": [
              "<div>\n",
              "<style scoped>\n",
              "    .dataframe tbody tr th:only-of-type {\n",
              "        vertical-align: middle;\n",
              "    }\n",
              "\n",
              "    .dataframe tbody tr th {\n",
              "        vertical-align: top;\n",
              "    }\n",
              "\n",
              "    .dataframe thead th {\n",
              "        text-align: right;\n",
              "    }\n",
              "</style>\n",
              "<table border=\"1\" class=\"dataframe\">\n",
              "  <thead>\n",
              "    <tr style=\"text-align: right;\">\n",
              "      <th></th>\n",
              "      <th>user_id</th>\n",
              "      <th>mean_percent_all_assignment</th>\n",
              "    </tr>\n",
              "  </thead>\n",
              "  <tbody>\n",
              "    <tr>\n",
              "      <th>0</th>\n",
              "      <td>1</td>\n",
              "      <td>0.005682</td>\n",
              "    </tr>\n",
              "    <tr>\n",
              "      <th>1</th>\n",
              "      <td>4</td>\n",
              "      <td>0.116477</td>\n",
              "    </tr>\n",
              "    <tr>\n",
              "      <th>2</th>\n",
              "      <td>5</td>\n",
              "      <td>0.114394</td>\n",
              "    </tr>\n",
              "    <tr>\n",
              "      <th>3</th>\n",
              "      <td>6</td>\n",
              "      <td>0.306203</td>\n",
              "    </tr>\n",
              "    <tr>\n",
              "      <th>4</th>\n",
              "      <td>7</td>\n",
              "      <td>0.005682</td>\n",
              "    </tr>\n",
              "    <tr>\n",
              "      <th>...</th>\n",
              "      <td>...</td>\n",
              "      <td>...</td>\n",
              "    </tr>\n",
              "    <tr>\n",
              "      <th>1154</th>\n",
              "      <td>1860</td>\n",
              "      <td>0.615000</td>\n",
              "    </tr>\n",
              "    <tr>\n",
              "      <th>1155</th>\n",
              "      <td>1862</td>\n",
              "      <td>0.450000</td>\n",
              "    </tr>\n",
              "    <tr>\n",
              "      <th>1156</th>\n",
              "      <td>1864</td>\n",
              "      <td>0.690000</td>\n",
              "    </tr>\n",
              "    <tr>\n",
              "      <th>1157</th>\n",
              "      <td>1865</td>\n",
              "      <td>0.588889</td>\n",
              "    </tr>\n",
              "    <tr>\n",
              "      <th>1158</th>\n",
              "      <td>1868</td>\n",
              "      <td>0.759233</td>\n",
              "    </tr>\n",
              "  </tbody>\n",
              "</table>\n",
              "<p>1159 rows × 2 columns</p>\n",
              "</div>"
            ],
            "text/plain": [
              "      user_id  mean_percent_all_assignment\n",
              "0           1                     0.005682\n",
              "1           4                     0.116477\n",
              "2           5                     0.114394\n",
              "3           6                     0.306203\n",
              "4           7                     0.005682\n",
              "...       ...                          ...\n",
              "1154     1860                     0.615000\n",
              "1155     1862                     0.450000\n",
              "1156     1864                     0.690000\n",
              "1157     1865                     0.588889\n",
              "1158     1868                     0.759233\n",
              "\n",
              "[1159 rows x 2 columns]"
            ]
          },
          "metadata": {
            "tags": []
          },
          "execution_count": 60
        }
      ]
    },
    {
      "cell_type": "code",
      "metadata": {
        "colab": {
          "base_uri": "https://localhost:8080/",
          "height": 419
        },
        "id": "WOBrbcha-zLC",
        "outputId": "1ce9b363-da61-4a28-ddf1-8291060b50ca"
      },
      "source": [
        "merge_result=merge_dataframe(Output, c)\n",
        "merge_result"
      ],
      "execution_count": null,
      "outputs": [
        {
          "output_type": "execute_result",
          "data": {
            "text/html": [
              "<div>\n",
              "<style scoped>\n",
              "    .dataframe tbody tr th:only-of-type {\n",
              "        vertical-align: middle;\n",
              "    }\n",
              "\n",
              "    .dataframe tbody tr th {\n",
              "        vertical-align: top;\n",
              "    }\n",
              "\n",
              "    .dataframe thead th {\n",
              "        text-align: right;\n",
              "    }\n",
              "</style>\n",
              "<table border=\"1\" class=\"dataframe\">\n",
              "  <thead>\n",
              "    <tr style=\"text-align: right;\">\n",
              "      <th></th>\n",
              "      <th>user_id</th>\n",
              "      <th>mean_percent_all_assignment</th>\n",
              "      <th>CK</th>\n",
              "    </tr>\n",
              "  </thead>\n",
              "  <tbody>\n",
              "    <tr>\n",
              "      <th>0</th>\n",
              "      <td>24</td>\n",
              "      <td>0.663333</td>\n",
              "      <td>9.5</td>\n",
              "    </tr>\n",
              "    <tr>\n",
              "      <th>1</th>\n",
              "      <td>27</td>\n",
              "      <td>0.223643</td>\n",
              "      <td>10.0</td>\n",
              "    </tr>\n",
              "    <tr>\n",
              "      <th>2</th>\n",
              "      <td>29</td>\n",
              "      <td>0.807911</td>\n",
              "      <td>8.5</td>\n",
              "    </tr>\n",
              "    <tr>\n",
              "      <th>3</th>\n",
              "      <td>34</td>\n",
              "      <td>0.854545</td>\n",
              "      <td>6.5</td>\n",
              "    </tr>\n",
              "    <tr>\n",
              "      <th>4</th>\n",
              "      <td>35</td>\n",
              "      <td>0.901952</td>\n",
              "      <td>4.5</td>\n",
              "    </tr>\n",
              "    <tr>\n",
              "      <th>...</th>\n",
              "      <td>...</td>\n",
              "      <td>...</td>\n",
              "      <td>...</td>\n",
              "    </tr>\n",
              "    <tr>\n",
              "      <th>848</th>\n",
              "      <td>1856</td>\n",
              "      <td>0.710000</td>\n",
              "      <td>7.5</td>\n",
              "    </tr>\n",
              "    <tr>\n",
              "      <th>849</th>\n",
              "      <td>1857</td>\n",
              "      <td>0.891667</td>\n",
              "      <td>4.0</td>\n",
              "    </tr>\n",
              "    <tr>\n",
              "      <th>850</th>\n",
              "      <td>1859</td>\n",
              "      <td>0.557143</td>\n",
              "      <td>1.5</td>\n",
              "    </tr>\n",
              "    <tr>\n",
              "      <th>851</th>\n",
              "      <td>1862</td>\n",
              "      <td>0.450000</td>\n",
              "      <td>7.5</td>\n",
              "    </tr>\n",
              "    <tr>\n",
              "      <th>852</th>\n",
              "      <td>1865</td>\n",
              "      <td>0.588889</td>\n",
              "      <td>7.5</td>\n",
              "    </tr>\n",
              "  </tbody>\n",
              "</table>\n",
              "<p>806 rows × 3 columns</p>\n",
              "</div>"
            ],
            "text/plain": [
              "     user_id  mean_percent_all_assignment    CK\n",
              "0         24                     0.663333   9.5\n",
              "1         27                     0.223643  10.0\n",
              "2         29                     0.807911   8.5\n",
              "3         34                     0.854545   6.5\n",
              "4         35                     0.901952   4.5\n",
              "..       ...                          ...   ...\n",
              "848     1856                     0.710000   7.5\n",
              "849     1857                     0.891667   4.0\n",
              "850     1859                     0.557143   1.5\n",
              "851     1862                     0.450000   7.5\n",
              "852     1865                     0.588889   7.5\n",
              "\n",
              "[806 rows x 3 columns]"
            ]
          },
          "metadata": {
            "tags": []
          },
          "execution_count": 61
        }
      ]
    },
    {
      "cell_type": "code",
      "metadata": {
        "colab": {
          "base_uri": "https://localhost:8080/",
          "height": 414
        },
        "id": "CTDrw1OB819E",
        "outputId": "256397c2-160d-4ac3-cf01-57fb44617c3d"
      },
      "source": [
        "#Vẽ scatter plot\n",
        "scatter_plot(merge_result['mean_percent_all_assignment'], merge_result['CK'], 'Mean percent of all assignment')"
      ],
      "execution_count": null,
      "outputs": [
        {
          "output_type": "display_data",
          "data": {
            "image/png": "[encoded data removed]",
            "text/plain": [
              "<Figure size 720x432 with 1 Axes>"
            ]
          },
          "metadata": {
            "tags": [],
            "needs_background": "light"
          }
        }
      ]
    },
    {
      "cell_type": "markdown",
      "metadata": {
        "id": "qwGXT-S2Ceyn"
      },
      "source": [
        "> **Nhận xét:**\n",
        "* Theo đồ thị thì sinh viên đa số đạt điểm từ: 4 - 9. Trong đó trung bình số phần trăm làm bài đa số trong khoảng: 60%-100%, dưới 60% rải rác \n",
        "* Số sinh viên làm nhiều bài nhưng có điểm thấp có thể là do tỷ lệ làm đúng thấp.\n"
      ]
    },
    {
      "cell_type": "markdown",
      "metadata": {
        "id": "BetgE-d7iDqa"
      },
      "source": [
        "##Công thức nhóm 6: \n",
        "###Tổng của (max pre_score của mỗi problem_id)"
      ]
    },
    {
      "cell_type": "code",
      "metadata": {
        "id": "0q5kiGdAiKLU",
        "colab": {
          "base_uri": "https://localhost:8080/",
          "height": 419
        },
        "outputId": "52361b97-2704-49f3-9cd8-654218caa22b"
      },
      "source": [
        "# Lọc ra 'user_id', 'problem_id','pre_score'\n",
        "total_score=Input[['user_id', 'problem_id','pre_score']]\n",
        "# Chọn ra max prescore của mỗi problem và tính tổng\n",
        "total_score=total_score.groupby(['user_id', 'problem_id'], as_index=False).max()\n",
        "total_score=total_score[['user_id','pre_score']].groupby('user_id', as_index=False).sum()\n",
        "total_score.rename(columns={\"pre_score\":\"Total max score per problem\"}, inplace=True)\n",
        "total_score"
      ],
      "execution_count": null,
      "outputs": [
        {
          "output_type": "execute_result",
          "data": {
            "text/html": [
              "<div>\n",
              "<style scoped>\n",
              "    .dataframe tbody tr th:only-of-type {\n",
              "        vertical-align: middle;\n",
              "    }\n",
              "\n",
              "    .dataframe tbody tr th {\n",
              "        vertical-align: top;\n",
              "    }\n",
              "\n",
              "    .dataframe thead th {\n",
              "        text-align: right;\n",
              "    }\n",
              "</style>\n",
              "<table border=\"1\" class=\"dataframe\">\n",
              "  <thead>\n",
              "    <tr style=\"text-align: right;\">\n",
              "      <th></th>\n",
              "      <th>user_id</th>\n",
              "      <th>Total max score per problem</th>\n",
              "    </tr>\n",
              "  </thead>\n",
              "  <tbody>\n",
              "    <tr>\n",
              "      <th>0</th>\n",
              "      <td>1</td>\n",
              "      <td>10000</td>\n",
              "    </tr>\n",
              "    <tr>\n",
              "      <th>1</th>\n",
              "      <td>4</td>\n",
              "      <td>400000</td>\n",
              "    </tr>\n",
              "    <tr>\n",
              "      <th>2</th>\n",
              "      <td>5</td>\n",
              "      <td>30000</td>\n",
              "    </tr>\n",
              "    <tr>\n",
              "      <th>3</th>\n",
              "      <td>6</td>\n",
              "      <td>850000</td>\n",
              "    </tr>\n",
              "    <tr>\n",
              "      <th>4</th>\n",
              "      <td>7</td>\n",
              "      <td>9209</td>\n",
              "    </tr>\n",
              "    <tr>\n",
              "      <th>...</th>\n",
              "      <td>...</td>\n",
              "      <td>...</td>\n",
              "    </tr>\n",
              "    <tr>\n",
              "      <th>1154</th>\n",
              "      <td>1860</td>\n",
              "      <td>300221</td>\n",
              "    </tr>\n",
              "    <tr>\n",
              "      <th>1155</th>\n",
              "      <td>1862</td>\n",
              "      <td>40000</td>\n",
              "    </tr>\n",
              "    <tr>\n",
              "      <th>1156</th>\n",
              "      <td>1864</td>\n",
              "      <td>439741</td>\n",
              "    </tr>\n",
              "    <tr>\n",
              "      <th>1157</th>\n",
              "      <td>1865</td>\n",
              "      <td>116428</td>\n",
              "    </tr>\n",
              "    <tr>\n",
              "      <th>1158</th>\n",
              "      <td>1868</td>\n",
              "      <td>200000</td>\n",
              "    </tr>\n",
              "  </tbody>\n",
              "</table>\n",
              "<p>1159 rows × 2 columns</p>\n",
              "</div>"
            ],
            "text/plain": [
              "      user_id  Total max score per problem\n",
              "0           1                        10000\n",
              "1           4                       400000\n",
              "2           5                        30000\n",
              "3           6                       850000\n",
              "4           7                         9209\n",
              "...       ...                          ...\n",
              "1154     1860                       300221\n",
              "1155     1862                        40000\n",
              "1156     1864                       439741\n",
              "1157     1865                       116428\n",
              "1158     1868                       200000\n",
              "\n",
              "[1159 rows x 2 columns]"
            ]
          },
          "metadata": {
            "tags": []
          },
          "execution_count": 63
        }
      ]
    },
    {
      "cell_type": "code",
      "metadata": {
        "colab": {
          "base_uri": "https://localhost:8080/",
          "height": 419
        },
        "id": "JD0Q-RbTY7Jq",
        "outputId": "df6ccd51-ac5d-40c7-a0d2-8c9a81704ad6"
      },
      "source": [
        "# merge 2 data lại\n",
        "merge_result = merge_dataframe(Output, total_score)\n",
        "merge_result"
      ],
      "execution_count": null,
      "outputs": [
        {
          "output_type": "execute_result",
          "data": {
            "text/html": [
              "<div>\n",
              "<style scoped>\n",
              "    .dataframe tbody tr th:only-of-type {\n",
              "        vertical-align: middle;\n",
              "    }\n",
              "\n",
              "    .dataframe tbody tr th {\n",
              "        vertical-align: top;\n",
              "    }\n",
              "\n",
              "    .dataframe thead th {\n",
              "        text-align: right;\n",
              "    }\n",
              "</style>\n",
              "<table border=\"1\" class=\"dataframe\">\n",
              "  <thead>\n",
              "    <tr style=\"text-align: right;\">\n",
              "      <th></th>\n",
              "      <th>user_id</th>\n",
              "      <th>Total max score per problem</th>\n",
              "      <th>CK</th>\n",
              "    </tr>\n",
              "  </thead>\n",
              "  <tbody>\n",
              "    <tr>\n",
              "      <th>0</th>\n",
              "      <td>24</td>\n",
              "      <td>760299</td>\n",
              "      <td>9.5</td>\n",
              "    </tr>\n",
              "    <tr>\n",
              "      <th>1</th>\n",
              "      <td>27</td>\n",
              "      <td>39000</td>\n",
              "      <td>10.0</td>\n",
              "    </tr>\n",
              "    <tr>\n",
              "      <th>2</th>\n",
              "      <td>29</td>\n",
              "      <td>762760</td>\n",
              "      <td>8.5</td>\n",
              "    </tr>\n",
              "    <tr>\n",
              "      <th>3</th>\n",
              "      <td>34</td>\n",
              "      <td>822888</td>\n",
              "      <td>6.5</td>\n",
              "    </tr>\n",
              "    <tr>\n",
              "      <th>4</th>\n",
              "      <td>35</td>\n",
              "      <td>1437000</td>\n",
              "      <td>4.5</td>\n",
              "    </tr>\n",
              "    <tr>\n",
              "      <th>...</th>\n",
              "      <td>...</td>\n",
              "      <td>...</td>\n",
              "      <td>...</td>\n",
              "    </tr>\n",
              "    <tr>\n",
              "      <th>848</th>\n",
              "      <td>1856</td>\n",
              "      <td>270790</td>\n",
              "      <td>7.5</td>\n",
              "    </tr>\n",
              "    <tr>\n",
              "      <th>849</th>\n",
              "      <td>1857</td>\n",
              "      <td>337000</td>\n",
              "      <td>4.0</td>\n",
              "    </tr>\n",
              "    <tr>\n",
              "      <th>850</th>\n",
              "      <td>1859</td>\n",
              "      <td>39000</td>\n",
              "      <td>1.5</td>\n",
              "    </tr>\n",
              "    <tr>\n",
              "      <th>851</th>\n",
              "      <td>1862</td>\n",
              "      <td>40000</td>\n",
              "      <td>7.5</td>\n",
              "    </tr>\n",
              "    <tr>\n",
              "      <th>852</th>\n",
              "      <td>1865</td>\n",
              "      <td>116428</td>\n",
              "      <td>7.5</td>\n",
              "    </tr>\n",
              "  </tbody>\n",
              "</table>\n",
              "<p>806 rows × 3 columns</p>\n",
              "</div>"
            ],
            "text/plain": [
              "     user_id  Total max score per problem    CK\n",
              "0         24                       760299   9.5\n",
              "1         27                        39000  10.0\n",
              "2         29                       762760   8.5\n",
              "3         34                       822888   6.5\n",
              "4         35                      1437000   4.5\n",
              "..       ...                          ...   ...\n",
              "848     1856                       270790   7.5\n",
              "849     1857                       337000   4.0\n",
              "850     1859                        39000   1.5\n",
              "851     1862                        40000   7.5\n",
              "852     1865                       116428   7.5\n",
              "\n",
              "[806 rows x 3 columns]"
            ]
          },
          "metadata": {
            "tags": []
          },
          "execution_count": 64
        }
      ]
    },
    {
      "cell_type": "code",
      "metadata": {
        "colab": {
          "base_uri": "https://localhost:8080/",
          "height": 413
        },
        "id": "njbx_YpiaCWv",
        "outputId": "04763c75-fd5f-4326-c64b-35e762b1170f"
      },
      "source": [
        "# Vẽ biểu đồ\n",
        "scatter_plot(merge_result['Total max score per problem'], merge_result['CK'], 'Total max score per problem')"
      ],
      "execution_count": null,
      "outputs": [
        {
          "output_type": "display_data",
          "data": {
            "image/png": "[encoded data removed]",
            "text/plain": [
              "<Figure size 720x432 with 1 Axes>"
            ]
          },
          "metadata": {
            "tags": [],
            "needs_background": "light"
          }
        }
      ]
    },
    {
      "cell_type": "markdown",
      "metadata": {
        "id": "laJgcZcKDo-B"
      },
      "source": [
        "\n",
        "\n",
        "> **Nhận xét**: Tổng max prescore của mỗi problem chủ yếu từ 0 đến 1 triệu và có xu hướng tăng dần theo điểm CK\n",
        "\n"
      ]
    },
    {
      "cell_type": "markdown",
      "metadata": {
        "id": "Hc_E_RvhiKrI"
      },
      "source": [
        "##Công thức nhóm 7: \n",
        "###Trung bình cộng (thời điểm submit cuối cùng - thời điểm submit đầu tiên của mỗi problem)"
      ]
    },
    {
      "cell_type": "code",
      "metadata": {
        "id": "2-6AwFn4iQkJ"
      },
      "source": [
        "from datetime import datetime\n",
        "# Xử lý thời gian kiểu chuỗi sang kiểu datetime\n",
        "Input['created_at']=Input['created_at'].apply(lambda x: datetime.strptime(x, '%Y-%m-%d %H:%M:%S'))\n",
        "Input['updated_at']=Input['updated_at'].apply(lambda x: datetime.strptime(x, '%Y-%m-%d %H:%M:%S'))"
      ],
      "execution_count": null,
      "outputs": []
    },
    {
      "cell_type": "code",
      "metadata": {
        "id": "Bh72N03Adv3w",
        "colab": {
          "base_uri": "https://localhost:8080/",
          "height": 419
        },
        "outputId": "9ec5d7f0-6410-407d-9e47-afad2b03da79"
      },
      "source": [
        "# Lọc ra thời gian submit nhỏ nhất và lớn nhất của mỗi problem\n",
        "time=Input[['user_id','problem_id','created_at']]\n",
        "earliest_time=time.groupby(['user_id','problem_id'], as_index=False).min()\n",
        "time=Input[['user_id','problem_id','updated_at']]\n",
        "latest_time=time.groupby(['user_id','problem_id'], as_index=False).max()\n",
        "# Tính hiệu thời gian = thời gian lớn nhất - thời gian nhỏ nhất rồi chuyển qua giây đe\n",
        "time_difference=earliest_time.merge(latest_time, on=['user_id','problem_id'])\n",
        "time_difference['time']=(latest_time['updated_at']-earliest_time['created_at']).dt.total_seconds()\n",
        "time_difference.dropna(inplace=True)\n",
        "# Tính trung bình tổng của các hiệu thời gian trên\n",
        "average_time=time_difference[['user_id','time']]\n",
        "average_time=average_time.groupby(['user_id'],as_index=False).mean()\n",
        "average_time.rename(columns={'time':'average_time'},inplace=True)\n",
        "average_time"
      ],
      "execution_count": null,
      "outputs": [
        {
          "output_type": "execute_result",
          "data": {
            "text/html": [
              "<div>\n",
              "<style scoped>\n",
              "    .dataframe tbody tr th:only-of-type {\n",
              "        vertical-align: middle;\n",
              "    }\n",
              "\n",
              "    .dataframe tbody tr th {\n",
              "        vertical-align: top;\n",
              "    }\n",
              "\n",
              "    .dataframe thead th {\n",
              "        text-align: right;\n",
              "    }\n",
              "</style>\n",
              "<table border=\"1\" class=\"dataframe\">\n",
              "  <thead>\n",
              "    <tr style=\"text-align: right;\">\n",
              "      <th></th>\n",
              "      <th>user_id</th>\n",
              "      <th>average_time</th>\n",
              "    </tr>\n",
              "  </thead>\n",
              "  <tbody>\n",
              "    <tr>\n",
              "      <th>0</th>\n",
              "      <td>1</td>\n",
              "      <td>6.500000</td>\n",
              "    </tr>\n",
              "    <tr>\n",
              "      <th>1</th>\n",
              "      <td>4</td>\n",
              "      <td>148.926829</td>\n",
              "    </tr>\n",
              "    <tr>\n",
              "      <th>2</th>\n",
              "      <td>5</td>\n",
              "      <td>492.600000</td>\n",
              "    </tr>\n",
              "    <tr>\n",
              "      <th>3</th>\n",
              "      <td>6</td>\n",
              "      <td>6356.670455</td>\n",
              "    </tr>\n",
              "    <tr>\n",
              "      <th>4</th>\n",
              "      <td>7</td>\n",
              "      <td>1162.000000</td>\n",
              "    </tr>\n",
              "    <tr>\n",
              "      <th>...</th>\n",
              "      <td>...</td>\n",
              "      <td>...</td>\n",
              "    </tr>\n",
              "    <tr>\n",
              "      <th>1154</th>\n",
              "      <td>1860</td>\n",
              "      <td>145163.488372</td>\n",
              "    </tr>\n",
              "    <tr>\n",
              "      <th>1155</th>\n",
              "      <td>1862</td>\n",
              "      <td>458.000000</td>\n",
              "    </tr>\n",
              "    <tr>\n",
              "      <th>1156</th>\n",
              "      <td>1864</td>\n",
              "      <td>17946.222222</td>\n",
              "    </tr>\n",
              "    <tr>\n",
              "      <th>1157</th>\n",
              "      <td>1865</td>\n",
              "      <td>46922.941176</td>\n",
              "    </tr>\n",
              "    <tr>\n",
              "      <th>1158</th>\n",
              "      <td>1868</td>\n",
              "      <td>257817.700000</td>\n",
              "    </tr>\n",
              "  </tbody>\n",
              "</table>\n",
              "<p>1159 rows × 2 columns</p>\n",
              "</div>"
            ],
            "text/plain": [
              "      user_id   average_time\n",
              "0           1       6.500000\n",
              "1           4     148.926829\n",
              "2           5     492.600000\n",
              "3           6    6356.670455\n",
              "4           7    1162.000000\n",
              "...       ...            ...\n",
              "1154     1860  145163.488372\n",
              "1155     1862     458.000000\n",
              "1156     1864   17946.222222\n",
              "1157     1865   46922.941176\n",
              "1158     1868  257817.700000\n",
              "\n",
              "[1159 rows x 2 columns]"
            ]
          },
          "metadata": {
            "tags": []
          },
          "execution_count": 67
        }
      ]
    },
    {
      "cell_type": "code",
      "metadata": {
        "colab": {
          "base_uri": "https://localhost:8080/",
          "height": 419
        },
        "id": "la3Ta8nVlM0p",
        "outputId": "b1ee4e80-4217-464c-b9d7-48b19865d21c"
      },
      "source": [
        "# merge 2 data\n",
        "merge_result=merge_dataframe(Output,average_time)\n",
        "merge_result"
      ],
      "execution_count": null,
      "outputs": [
        {
          "output_type": "execute_result",
          "data": {
            "text/html": [
              "<div>\n",
              "<style scoped>\n",
              "    .dataframe tbody tr th:only-of-type {\n",
              "        vertical-align: middle;\n",
              "    }\n",
              "\n",
              "    .dataframe tbody tr th {\n",
              "        vertical-align: top;\n",
              "    }\n",
              "\n",
              "    .dataframe thead th {\n",
              "        text-align: right;\n",
              "    }\n",
              "</style>\n",
              "<table border=\"1\" class=\"dataframe\">\n",
              "  <thead>\n",
              "    <tr style=\"text-align: right;\">\n",
              "      <th></th>\n",
              "      <th>user_id</th>\n",
              "      <th>average_time</th>\n",
              "      <th>CK</th>\n",
              "    </tr>\n",
              "  </thead>\n",
              "  <tbody>\n",
              "    <tr>\n",
              "      <th>0</th>\n",
              "      <td>24</td>\n",
              "      <td>47079.641026</td>\n",
              "      <td>9.5</td>\n",
              "    </tr>\n",
              "    <tr>\n",
              "      <th>1</th>\n",
              "      <td>27</td>\n",
              "      <td>1100.800000</td>\n",
              "      <td>10.0</td>\n",
              "    </tr>\n",
              "    <tr>\n",
              "      <th>2</th>\n",
              "      <td>29</td>\n",
              "      <td>47853.187500</td>\n",
              "      <td>8.5</td>\n",
              "    </tr>\n",
              "    <tr>\n",
              "      <th>3</th>\n",
              "      <td>34</td>\n",
              "      <td>46997.107143</td>\n",
              "      <td>6.5</td>\n",
              "    </tr>\n",
              "    <tr>\n",
              "      <th>4</th>\n",
              "      <td>35</td>\n",
              "      <td>107550.027211</td>\n",
              "      <td>4.5</td>\n",
              "    </tr>\n",
              "    <tr>\n",
              "      <th>...</th>\n",
              "      <td>...</td>\n",
              "      <td>...</td>\n",
              "      <td>...</td>\n",
              "    </tr>\n",
              "    <tr>\n",
              "      <th>848</th>\n",
              "      <td>1856</td>\n",
              "      <td>63377.193548</td>\n",
              "      <td>7.5</td>\n",
              "    </tr>\n",
              "    <tr>\n",
              "      <th>849</th>\n",
              "      <td>1857</td>\n",
              "      <td>206008.441176</td>\n",
              "      <td>4.0</td>\n",
              "    </tr>\n",
              "    <tr>\n",
              "      <th>850</th>\n",
              "      <td>1859</td>\n",
              "      <td>190674.777778</td>\n",
              "      <td>1.5</td>\n",
              "    </tr>\n",
              "    <tr>\n",
              "      <th>851</th>\n",
              "      <td>1862</td>\n",
              "      <td>458.000000</td>\n",
              "      <td>7.5</td>\n",
              "    </tr>\n",
              "    <tr>\n",
              "      <th>852</th>\n",
              "      <td>1865</td>\n",
              "      <td>46922.941176</td>\n",
              "      <td>7.5</td>\n",
              "    </tr>\n",
              "  </tbody>\n",
              "</table>\n",
              "<p>806 rows × 3 columns</p>\n",
              "</div>"
            ],
            "text/plain": [
              "     user_id   average_time    CK\n",
              "0         24   47079.641026   9.5\n",
              "1         27    1100.800000  10.0\n",
              "2         29   47853.187500   8.5\n",
              "3         34   46997.107143   6.5\n",
              "4         35  107550.027211   4.5\n",
              "..       ...            ...   ...\n",
              "848     1856   63377.193548   7.5\n",
              "849     1857  206008.441176   4.0\n",
              "850     1859  190674.777778   1.5\n",
              "851     1862     458.000000   7.5\n",
              "852     1865   46922.941176   7.5\n",
              "\n",
              "[806 rows x 3 columns]"
            ]
          },
          "metadata": {
            "tags": []
          },
          "execution_count": 68
        }
      ]
    },
    {
      "cell_type": "code",
      "metadata": {
        "colab": {
          "base_uri": "https://localhost:8080/",
          "height": 416
        },
        "id": "RAg64hk3leWo",
        "outputId": "ca3942f6-a17a-4186-9891-c837310c9f05"
      },
      "source": [
        "# Vẽ biểu đồ\n",
        "scatter_plot(merge_result['average_time'], merge_result['CK'], 'Trung bình cộng (thời điểm submit cuối cùng - thời điểm submit đầu tiên của mỗi problem)')"
      ],
      "execution_count": null,
      "outputs": [
        {
          "output_type": "display_data",
          "data": {
            "image/png": "[encoded data removed]",
            "text/plain": [
              "<Figure size 720x432 with 1 Axes>"
            ]
          },
          "metadata": {
            "tags": [],
            "needs_background": "light"
          }
        }
      ]
    },
    {
      "cell_type": "markdown",
      "metadata": {
        "id": "vmOA2tG4EDFI"
      },
      "source": [
        "\n",
        "\n",
        "\n",
        "\n",
        "> **Nhận xét:**\n",
        "- Trung bình cộng thời gian submit của mỗi problem ở các sinh viên có điểm CK từ 5 trở lên cao hơn so với sinh viên có điểm CK nhỏ hơn 5\n",
        "- Trung bình cộng thời gian submit của mỗi problem có xu hướng tăng dần theo điểm CK. Có vẻ các bạn có điểm càng cao sẽ dành nhiều thời gian cho mỗi problem hơn thay vì đi nộp lại bài đã được bạn khác làm\n",
        "\n"
      ]
    },
    {
      "cell_type": "markdown",
      "metadata": {
        "id": "PRwqkSeZrfTm"
      },
      "source": [
        "## score_training.csv"
      ]
    },
    {
      "cell_type": "code",
      "metadata": {
        "id": "RdxfbJfdzAyW",
        "colab": {
          "base_uri": "https://localhost:8080/"
        },
        "outputId": "8009216d-9b44-4b46-90e1-f962dfda0988"
      },
      "source": [
        "Output.info()"
      ],
      "execution_count": null,
      "outputs": [
        {
          "output_type": "stream",
          "text": [
            "<class 'pandas.core.frame.DataFrame'>\n",
            "RangeIndex: 975 entries, 0 to 974\n",
            "Data columns (total 7 columns):\n",
            " #   Column   Non-Null Count  Dtype \n",
            "---  ------   --------------  ----- \n",
            " 0   user_id  975 non-null    int64 \n",
            " 1   QT       973 non-null    object\n",
            " 2   GK       974 non-null    object\n",
            " 3   TH       974 non-null    object\n",
            " 4   CK       974 non-null    object\n",
            " 5   TBM      974 non-null    object\n",
            " 6   TBTL     974 non-null    object\n",
            "dtypes: int64(1), object(6)\n",
            "memory usage: 53.4+ KB\n"
          ],
          "name": "stdout"
        }
      ]
    },
    {
      "cell_type": "markdown",
      "metadata": {
        "id": "Xtcd8r4nCs48"
      },
      "source": [
        "\n",
        "\n",
        "> **Nhận xét:** Các cột trong file score_training.csv không đầy đủ giá trị. Các cột điểm đều có kiểu dữ liệu string chứ không phải float.\n",
        "\n"
      ]
    },
    {
      "cell_type": "code",
      "metadata": {
        "id": "SA80CP1_q_vi"
      },
      "source": [
        "cols=[\"QT\",\t\"GK\",\t\"TH\",\t\"CK\",\t\"TBM\",\t\"TBTL\"]\n",
        "for col in cols:\n",
        "  Output[col]=pd.to_numeric(Output[col],errors='coerce') # Chuyển từng cột điểm qua kiểu numeric \n"
      ],
      "execution_count": null,
      "outputs": []
    },
    {
      "cell_type": "code",
      "metadata": {
        "id": "H1RsM5V6sCDC",
        "colab": {
          "base_uri": "https://localhost:8080/",
          "height": 420
        },
        "outputId": "0e427e99-2ee4-4676-8585-35f453686d7a"
      },
      "source": [
        "Output=Output.dropna().rename(columns={\"id\":\"user_id\"}) # Xóa những hàng có giá trị null\n",
        "Output"
      ],
      "execution_count": null,
      "outputs": [
        {
          "output_type": "execute_result",
          "data": {
            "text/html": [
              "<div>\n",
              "<style scoped>\n",
              "    .dataframe tbody tr th:only-of-type {\n",
              "        vertical-align: middle;\n",
              "    }\n",
              "\n",
              "    .dataframe tbody tr th {\n",
              "        vertical-align: top;\n",
              "    }\n",
              "\n",
              "    .dataframe thead th {\n",
              "        text-align: right;\n",
              "    }\n",
              "</style>\n",
              "<table border=\"1\" class=\"dataframe\">\n",
              "  <thead>\n",
              "    <tr style=\"text-align: right;\">\n",
              "      <th></th>\n",
              "      <th>user_id</th>\n",
              "      <th>QT</th>\n",
              "      <th>GK</th>\n",
              "      <th>TH</th>\n",
              "      <th>CK</th>\n",
              "      <th>TBM</th>\n",
              "      <th>TBTL</th>\n",
              "    </tr>\n",
              "  </thead>\n",
              "  <tbody>\n",
              "    <tr>\n",
              "      <th>0</th>\n",
              "      <td>22</td>\n",
              "      <td>10.0</td>\n",
              "      <td>9.0</td>\n",
              "      <td>8.5</td>\n",
              "      <td>8.5</td>\n",
              "      <td>8.8</td>\n",
              "      <td>8.52</td>\n",
              "    </tr>\n",
              "    <tr>\n",
              "      <th>1</th>\n",
              "      <td>24</td>\n",
              "      <td>10.0</td>\n",
              "      <td>8.0</td>\n",
              "      <td>10.0</td>\n",
              "      <td>9.5</td>\n",
              "      <td>9.4</td>\n",
              "      <td>8.41</td>\n",
              "    </tr>\n",
              "    <tr>\n",
              "      <th>2</th>\n",
              "      <td>27</td>\n",
              "      <td>10.0</td>\n",
              "      <td>10.0</td>\n",
              "      <td>10.0</td>\n",
              "      <td>10.0</td>\n",
              "      <td>10.0</td>\n",
              "      <td>8.67</td>\n",
              "    </tr>\n",
              "    <tr>\n",
              "      <th>3</th>\n",
              "      <td>28</td>\n",
              "      <td>10.0</td>\n",
              "      <td>9.5</td>\n",
              "      <td>7.5</td>\n",
              "      <td>9.5</td>\n",
              "      <td>9.2</td>\n",
              "      <td>7.39</td>\n",
              "    </tr>\n",
              "    <tr>\n",
              "      <th>4</th>\n",
              "      <td>29</td>\n",
              "      <td>10.0</td>\n",
              "      <td>9.5</td>\n",
              "      <td>5.0</td>\n",
              "      <td>8.5</td>\n",
              "      <td>8.2</td>\n",
              "      <td>8.05</td>\n",
              "    </tr>\n",
              "    <tr>\n",
              "      <th>...</th>\n",
              "      <td>...</td>\n",
              "      <td>...</td>\n",
              "      <td>...</td>\n",
              "      <td>...</td>\n",
              "      <td>...</td>\n",
              "      <td>...</td>\n",
              "      <td>...</td>\n",
              "    </tr>\n",
              "    <tr>\n",
              "      <th>969</th>\n",
              "      <td>1856</td>\n",
              "      <td>5.0</td>\n",
              "      <td>5.5</td>\n",
              "      <td>7.0</td>\n",
              "      <td>7.5</td>\n",
              "      <td>6.7</td>\n",
              "      <td>7.34</td>\n",
              "    </tr>\n",
              "    <tr>\n",
              "      <th>970</th>\n",
              "      <td>1857</td>\n",
              "      <td>5.0</td>\n",
              "      <td>4.5</td>\n",
              "      <td>10.0</td>\n",
              "      <td>4.0</td>\n",
              "      <td>6.0</td>\n",
              "      <td>6.03</td>\n",
              "    </tr>\n",
              "    <tr>\n",
              "      <th>971</th>\n",
              "      <td>1859</td>\n",
              "      <td>8.0</td>\n",
              "      <td>5.0</td>\n",
              "      <td>10.0</td>\n",
              "      <td>1.5</td>\n",
              "      <td>5.4</td>\n",
              "      <td>5.06</td>\n",
              "    </tr>\n",
              "    <tr>\n",
              "      <th>972</th>\n",
              "      <td>1862</td>\n",
              "      <td>5.0</td>\n",
              "      <td>6.5</td>\n",
              "      <td>1.0</td>\n",
              "      <td>7.5</td>\n",
              "      <td>5.1</td>\n",
              "      <td>4.71</td>\n",
              "    </tr>\n",
              "    <tr>\n",
              "      <th>974</th>\n",
              "      <td>1866</td>\n",
              "      <td>9.0</td>\n",
              "      <td>7.5</td>\n",
              "      <td>2.0</td>\n",
              "      <td>5.0</td>\n",
              "      <td>5.0</td>\n",
              "      <td>7.05</td>\n",
              "    </tr>\n",
              "  </tbody>\n",
              "</table>\n",
              "<p>785 rows × 7 columns</p>\n",
              "</div>"
            ],
            "text/plain": [
              "     user_id    QT    GK    TH    CK   TBM  TBTL\n",
              "0         22  10.0   9.0   8.5   8.5   8.8  8.52\n",
              "1         24  10.0   8.0  10.0   9.5   9.4  8.41\n",
              "2         27  10.0  10.0  10.0  10.0  10.0  8.67\n",
              "3         28  10.0   9.5   7.5   9.5   9.2  7.39\n",
              "4         29  10.0   9.5   5.0   8.5   8.2  8.05\n",
              "..       ...   ...   ...   ...   ...   ...   ...\n",
              "969     1856   5.0   5.5   7.0   7.5   6.7  7.34\n",
              "970     1857   5.0   4.5  10.0   4.0   6.0  6.03\n",
              "971     1859   8.0   5.0  10.0   1.5   5.4  5.06\n",
              "972     1862   5.0   6.5   1.0   7.5   5.1  4.71\n",
              "974     1866   9.0   7.5   2.0   5.0   5.0  7.05\n",
              "\n",
              "[785 rows x 7 columns]"
            ]
          },
          "metadata": {
            "tags": []
          },
          "execution_count": 36
        }
      ]
    },
    {
      "cell_type": "code",
      "metadata": {
        "id": "OQTC8hvwr1A9",
        "colab": {
          "base_uri": "https://localhost:8080/",
          "height": 564
        },
        "outputId": "b43d964e-9bec-4d50-9883-6b4822c7ea6f"
      },
      "source": [
        "cols=[\"id\",\t\"QT\",\t\"GK\",\t\"TH\",\t\"CK\",\t\"TBM\",\t\"TBTL\"]\n",
        "fig, axs = plt.subplots(2,3, figsize = (20,12))\n",
        "n=1\n",
        "for i in range(2):\n",
        "  for j in range(3):\n",
        "      axs[i,j].set_title(cols[n]+\" scores 's distribution\", size=15)\n",
        "      sns.kdeplot(Output[cols[n]], ax=axs[i,j])\n",
        "      n+=1"
      ],
      "execution_count": null,
      "outputs": [
        {
          "output_type": "display_data",
          "data": {
            "image/png": "[encoded data removed]",
            "text/plain": [
              "<Figure size 1440x864 with 6 Axes>"
            ]
          },
          "metadata": {
            "tags": [],
            "needs_background": "light"
          }
        }
      ]
    },
    {
      "cell_type": "markdown",
      "metadata": {
        "id": "1EeztLQU-Dlx"
      },
      "source": [
        "\n",
        "\n",
        "> **Nhận xét:** \n",
        "- Điểm QT, GK và TH của các sinh viên rơi vào khoảng 8-10 là nhiều nhất. Còn điểm CK của các sinh viên thường chỉ rơi vào 8.\n",
        "- Chính vì vậy, điểm TB môn của các sinh viên rơi vào 8 điểm là nhiều nhất do bị điểm CK kéo xuống.\n",
        "\n",
        "\n"
      ]
    },
    {
      "cell_type": "markdown",
      "metadata": {
        "id": "9NGK3QSrTEdC"
      },
      "source": [
        "# Predict final score"
      ]
    },
    {
      "cell_type": "code",
      "metadata": {
        "id": "REoOzo2VbDQ0"
      },
      "source": [
        "# import các models dành cho regresion, các thư viên và các hàm cần thiết\n",
        "from sklearn.linear_model import LinearRegression\n",
        "from sklearn.linear_model import Ridge, Lasso\n",
        "from sklearn.ensemble import RandomForestRegressor, GradientBoostingRegressor\n",
        "from sklearn.tree import DecisionTreeRegressor\n",
        "from sklearn.neighbors import KNeighborsRegressor\n",
        "from sklearn.model_selection import train_test_split\n",
        "from sklearn.metrics import mean_squared_error\n",
        "import numpy\n",
        "import math"
      ],
      "execution_count": 82,
      "outputs": []
    },
    {
      "cell_type": "code",
      "metadata": {
        "id": "cNeQW6WHTLe7"
      },
      "source": [
        "# Trích ra các thông số quan trọng từ file wecode.csv\n",
        "def extract(Input):\n",
        "  # Số lượng submissions, problems, asignments\n",
        "  submission_count = Input[['user_id', 'id']].groupby(['user_id'], as_index = False).count()\n",
        "  submission_count.rename(columns = {\"id\":\"Number of submissions\"}, inplace=True)\n",
        "\n",
        "  problem_count = Input[['user_id', 'problem_id']].drop_duplicates().groupby(['user_id'], as_index = False).count()\n",
        "  problem_count.rename(columns = {\"problem_id\":\"Number of problems\"}, inplace=True) \n",
        "\n",
        "  assignment_count = Input[['user_id', 'assignment_id']].drop_duplicates().groupby(['user_id'], as_index = False).count()\n",
        "  assignment_count.rename(columns = {\"assignment_id\":\"Number of assignments\"}, inplace=True)\n",
        "\n",
        "  # Tổng pre_score\n",
        "  total_score=Input[['user_id', 'pre_score']].groupby(\"user_id\", as_index = False).sum()\n",
        "  total_score.rename(columns={'pre_score': 'Total score'}, inplace=True)\n",
        "\n",
        "  # Tổng pre_score có is_final = 1\n",
        "  total_final_score = Input.loc[(Input['is_final'] == 1), ['user_id', 'pre_score']]\\\n",
        "                            .groupby('user_id', as_index = False)\\\n",
        "                            .sum()\n",
        "  total_final_score.rename(columns={'pre_score': 'Total final score'}, inplace=True)\n",
        "\n",
        "  # Tổng max pre_score của mỗi problem_id\n",
        "  total_max_score = Input[['user_id', 'problem_id','pre_score']].groupby(['user_id', 'problem_id'], as_index=False).max()\n",
        "  total_max_score = total_max_score[['user_id','pre_score']].groupby('user_id', as_index=False).sum()\n",
        "  total_max_score.rename(columns = {\"pre_score\":\"Total max score per problem\"}, inplace=True)\n",
        "\n",
        "  return [submission_count, problem_count, assignment_count, total_score, total_final_score, total_max_score]\n",
        "\n",
        "# merge các thông số và điểm CK theo user_id\n",
        "def merge(features, Output):\n",
        "  Output['CK']=pd.to_numeric(Output['CK'],errors='coerce')\n",
        "  Output.rename(columns={\"id\":\"user_id\"}, inplace=True)\n",
        "  \n",
        "  training_data=features[0]\n",
        "  for feature in features[1:]:\n",
        "    training_data=training_data.merge(feature, on='user_id')\n",
        "  \n",
        "  training_data=training_data.merge(Output[[\"user_id\",\"CK\"]], on='user_id')\n",
        "\n",
        "  training_data = training_data.drop(index = training_data.loc[(training_data['CK'].isnull()) | (training_data['CK'] == '\\xa0'), :].index)\n",
        "  #training_data['CK'] = training_data['CK'].astype(float)\n",
        "  return training_data\n",
        "\n",
        "# xuất mean squared error và độ lỗi\n",
        "def evaluate(y_test, y_pred):\n",
        "  mse = mean_squared_error(y_test, y_pred)\n",
        "  error = math.sqrt(mse)/np.average(y_test)\n",
        "  print(\"MSE:\", mse)\n",
        "  print(\"Error\", error*100,\"(%)\")"
      ],
      "execution_count": 112,
      "outputs": []
    },
    {
      "cell_type": "markdown",
      "metadata": {
        "id": "S2z7jUXFFWbw"
      },
      "source": [
        "## Creating and preprocessing training data"
      ]
    },
    {
      "cell_type": "code",
      "metadata": {
        "colab": {
          "base_uri": "https://localhost:8080/",
          "height": 419
        },
        "id": "n5txrSHtTk73",
        "outputId": "d0bc95cd-69f0-4828-b251-d1ba5b6f3984"
      },
      "source": [
        "# Tạo training data bằng cách trích ra các thông số quan trọng và merge với điểm CK theo user_id\n",
        "features=extract(Input)\n",
        "training_data=merge(features, Output)\n",
        "training_data"
      ],
      "execution_count": 37,
      "outputs": [
        {
          "output_type": "execute_result",
          "data": {
            "text/html": [
              "<div>\n",
              "<style scoped>\n",
              "    .dataframe tbody tr th:only-of-type {\n",
              "        vertical-align: middle;\n",
              "    }\n",
              "\n",
              "    .dataframe tbody tr th {\n",
              "        vertical-align: top;\n",
              "    }\n",
              "\n",
              "    .dataframe thead th {\n",
              "        text-align: right;\n",
              "    }\n",
              "</style>\n",
              "<table border=\"1\" class=\"dataframe\">\n",
              "  <thead>\n",
              "    <tr style=\"text-align: right;\">\n",
              "      <th></th>\n",
              "      <th>user_id</th>\n",
              "      <th>Number of submissions</th>\n",
              "      <th>Number of problems</th>\n",
              "      <th>Number of assignments</th>\n",
              "      <th>Total score</th>\n",
              "      <th>Total final score</th>\n",
              "      <th>Total max score per problem</th>\n",
              "      <th>CK</th>\n",
              "    </tr>\n",
              "  </thead>\n",
              "  <tbody>\n",
              "    <tr>\n",
              "      <th>0</th>\n",
              "      <td>24</td>\n",
              "      <td>164</td>\n",
              "      <td>78</td>\n",
              "      <td>15</td>\n",
              "      <td>1031674</td>\n",
              "      <td>750299</td>\n",
              "      <td>760299</td>\n",
              "      <td>9.5</td>\n",
              "    </tr>\n",
              "    <tr>\n",
              "      <th>1</th>\n",
              "      <td>27</td>\n",
              "      <td>13</td>\n",
              "      <td>5</td>\n",
              "      <td>2</td>\n",
              "      <td>52000</td>\n",
              "      <td>39000</td>\n",
              "      <td>39000</td>\n",
              "      <td>10.0</td>\n",
              "    </tr>\n",
              "    <tr>\n",
              "      <th>2</th>\n",
              "      <td>29</td>\n",
              "      <td>199</td>\n",
              "      <td>80</td>\n",
              "      <td>13</td>\n",
              "      <td>1225828</td>\n",
              "      <td>762760</td>\n",
              "      <td>762760</td>\n",
              "      <td>8.5</td>\n",
              "    </tr>\n",
              "    <tr>\n",
              "      <th>3</th>\n",
              "      <td>34</td>\n",
              "      <td>218</td>\n",
              "      <td>84</td>\n",
              "      <td>11</td>\n",
              "      <td>1206981</td>\n",
              "      <td>822888</td>\n",
              "      <td>822888</td>\n",
              "      <td>6.5</td>\n",
              "    </tr>\n",
              "    <tr>\n",
              "      <th>4</th>\n",
              "      <td>35</td>\n",
              "      <td>297</td>\n",
              "      <td>147</td>\n",
              "      <td>25</td>\n",
              "      <td>1809718</td>\n",
              "      <td>1477000</td>\n",
              "      <td>1437000</td>\n",
              "      <td>4.5</td>\n",
              "    </tr>\n",
              "    <tr>\n",
              "      <th>...</th>\n",
              "      <td>...</td>\n",
              "      <td>...</td>\n",
              "      <td>...</td>\n",
              "      <td>...</td>\n",
              "      <td>...</td>\n",
              "      <td>...</td>\n",
              "      <td>...</td>\n",
              "      <td>...</td>\n",
              "    </tr>\n",
              "    <tr>\n",
              "      <th>847</th>\n",
              "      <td>1856</td>\n",
              "      <td>64</td>\n",
              "      <td>31</td>\n",
              "      <td>5</td>\n",
              "      <td>329074</td>\n",
              "      <td>270790</td>\n",
              "      <td>270790</td>\n",
              "      <td>7.5</td>\n",
              "    </tr>\n",
              "    <tr>\n",
              "      <th>848</th>\n",
              "      <td>1857</td>\n",
              "      <td>55</td>\n",
              "      <td>34</td>\n",
              "      <td>6</td>\n",
              "      <td>389000</td>\n",
              "      <td>386000</td>\n",
              "      <td>337000</td>\n",
              "      <td>4.0</td>\n",
              "    </tr>\n",
              "    <tr>\n",
              "      <th>849</th>\n",
              "      <td>1859</td>\n",
              "      <td>31</td>\n",
              "      <td>27</td>\n",
              "      <td>7</td>\n",
              "      <td>39000</td>\n",
              "      <td>39000</td>\n",
              "      <td>39000</td>\n",
              "      <td>1.5</td>\n",
              "    </tr>\n",
              "    <tr>\n",
              "      <th>850</th>\n",
              "      <td>1862</td>\n",
              "      <td>12</td>\n",
              "      <td>6</td>\n",
              "      <td>2</td>\n",
              "      <td>40000</td>\n",
              "      <td>40000</td>\n",
              "      <td>40000</td>\n",
              "      <td>7.5</td>\n",
              "    </tr>\n",
              "    <tr>\n",
              "      <th>851</th>\n",
              "      <td>1865</td>\n",
              "      <td>99</td>\n",
              "      <td>17</td>\n",
              "      <td>3</td>\n",
              "      <td>189460</td>\n",
              "      <td>116428</td>\n",
              "      <td>116428</td>\n",
              "      <td>7.5</td>\n",
              "    </tr>\n",
              "  </tbody>\n",
              "</table>\n",
              "<p>805 rows × 8 columns</p>\n",
              "</div>"
            ],
            "text/plain": [
              "     user_id  Number of submissions  ...  Total max score per problem    CK\n",
              "0         24                    164  ...                       760299   9.5\n",
              "1         27                     13  ...                        39000  10.0\n",
              "2         29                    199  ...                       762760   8.5\n",
              "3         34                    218  ...                       822888   6.5\n",
              "4         35                    297  ...                      1437000   4.5\n",
              "..       ...                    ...  ...                          ...   ...\n",
              "847     1856                     64  ...                       270790   7.5\n",
              "848     1857                     55  ...                       337000   4.0\n",
              "849     1859                     31  ...                        39000   1.5\n",
              "850     1862                     12  ...                        40000   7.5\n",
              "851     1865                     99  ...                       116428   7.5\n",
              "\n",
              "[805 rows x 8 columns]"
            ]
          },
          "metadata": {
            "tags": []
          },
          "execution_count": 37
        }
      ]
    },
    {
      "cell_type": "code",
      "metadata": {
        "colab": {
          "base_uri": "https://localhost:8080/",
          "height": 663
        },
        "id": "GdnyaHUZLlj-",
        "outputId": "1f47379d-dde5-4d0a-8598-b846bee01724"
      },
      "source": [
        "cols=[\"Number of submissions\", \"Number of problems\", \"Number of assignments\", \"Total score\", \"Total final score\", \"Total max score per problem\"]\n",
        "fig, ax = plt.subplots(2,3, figsize = (25, 12))\n",
        "n=0\n",
        "for i in range(2):\n",
        "  for j in range(3):\n",
        "    ax[i][j].set_title(cols[n], size=15)\n",
        "    ax[i][j].set_xlabel(cols[n], size=12)\n",
        "    ax[i][j].set_ylabel(\"CK\", size=12)\n",
        "    ax[i][j].scatter(training_data[cols[n]], training_data[\"CK\"], s=15, c=\"g\")\n",
        "    n+=1"
      ],
      "execution_count": 210,
      "outputs": [
        {
          "output_type": "display_data",
          "data": {
            "image/png": "[encoded data removed]",
            "text/plain": [
              "<Figure size 1800x864 with 6 Axes>"
            ]
          },
          "metadata": {
            "tags": [],
            "needs_background": "light"
          }
        }
      ]
    },
    {
      "cell_type": "markdown",
      "metadata": {
        "id": "CSQ4KHNHRTLy"
      },
      "source": [
        "\n",
        "\n",
        "> **Nhận xét:** Nhóm chúng em chọn các thông số trên vì chúng thay đổi theo điểm CK rõ hơn các thông số khác. Cụ thể là khi điểm CK tăng, giá trị của các thông số trên cũng có xu hướng tăng theo.\n",
        "\n",
        "\n"
      ]
    },
    {
      "cell_type": "code",
      "metadata": {
        "id": "8YFzeN3TdnSF"
      },
      "source": [
        "# Chuẩn hóa các thông số bằng Standard Scaler trong thư viện sklearn\n",
        "from sklearn.preprocessing import StandardScaler\n",
        "scaler=StandardScaler()\n",
        "X=training_data.drop([\"CK\"], axis=1)\n",
        "X=scaler.fit_transform(X)\n",
        "y=training_data[\"CK\"]"
      ],
      "execution_count": 38,
      "outputs": []
    },
    {
      "cell_type": "markdown",
      "metadata": {
        "id": "YGVpv3TFGcfW"
      },
      "source": [
        "## Training with different models"
      ]
    },
    {
      "cell_type": "markdown",
      "metadata": {
        "id": "Q0hsT_3ZJ2Ln"
      },
      "source": [
        "### Linear Regression"
      ]
    },
    {
      "cell_type": "code",
      "metadata": {
        "colab": {
          "base_uri": "https://localhost:8080/"
        },
        "id": "L8sc5YpOXrwh",
        "outputId": "015a2efc-9e01-4e3a-d751-560a9b286fc2"
      },
      "source": [
        "# Chia train, test data theo tỉ lệ 7:3\n",
        "X_train, X_test, y_train, y_test=train_test_split(X, y, train_size=0.7, test_size=0.3, random_state=1)\n",
        "print(X_train.shape, y_train.shape)\n",
        "print(X_test.shape, y_test.shape)"
      ],
      "execution_count": 43,
      "outputs": [
        {
          "output_type": "stream",
          "text": [
            "(563, 7) (563,)\n",
            "(242, 7) (242,)\n"
          ],
          "name": "stdout"
        }
      ]
    },
    {
      "cell_type": "code",
      "metadata": {
        "colab": {
          "base_uri": "https://localhost:8080/"
        },
        "id": "r1Ee5LYCX7j1",
        "outputId": "232c432d-b355-49b1-a011-f5a2d29eb404"
      },
      "source": [
        "# Linear Regression\n",
        "reg=LinearRegression().fit(X_train, y_train)\n",
        "y_pred=reg.predict(X_test)\n",
        "evaluate(y_test, y_pred)"
      ],
      "execution_count": 113,
      "outputs": [
        {
          "output_type": "stream",
          "text": [
            "MSE: 4.272757938866236\n",
            "Error 34.689996057548356 (%)\n"
          ],
          "name": "stdout"
        }
      ]
    },
    {
      "cell_type": "markdown",
      "metadata": {
        "id": "nLsbfv3lT4o9"
      },
      "source": [
        "> **Nhận xét:** Linear Regression với MSE và độ lỗi như trên chưa được tốt vì điểm CK dự đoán có thể sai lệch đến hơn 2 điểm so với điểm CK thực tế (vì MSE = 4.27... lấy căn sẽ lớn hơn 2)"
      ]
    },
    {
      "cell_type": "code",
      "metadata": {
        "colab": {
          "base_uri": "https://localhost:8080/"
        },
        "id": "Y2WeC9Hig05-",
        "outputId": "cb9c5d51-f46c-403e-aa8e-eb3af2e498fe"
      },
      "source": [
        "# Ridge\n",
        "reg=Ridge(alpha=0.001).fit(X_train, y_train)\n",
        "y_pred=reg.predict(X_test)\n",
        "evaluate(y_test, y_pred)"
      ],
      "execution_count": 120,
      "outputs": [
        {
          "output_type": "stream",
          "text": [
            "MSE: 4.272766659051816\n",
            "Error 34.69003145658726 (%)\n"
          ],
          "name": "stdout"
        }
      ]
    },
    {
      "cell_type": "code",
      "metadata": {
        "colab": {
          "base_uri": "https://localhost:8080/"
        },
        "id": "p9z6uv1yhDLr",
        "outputId": "cf523dfb-2670-465a-f6ed-bb1da86dfa00"
      },
      "source": [
        "# Lasso\n",
        "reg=Lasso(alpha=0.0025).fit(X_train, y_train)\n",
        "y_pred=reg.predict(X_test)\n",
        "evaluate(y_test, y_pred)"
      ],
      "execution_count": 119,
      "outputs": [
        {
          "output_type": "stream",
          "text": [
            "MSE: 4.288182963815739\n",
            "Error 34.752556586152956 (%)\n"
          ],
          "name": "stdout"
        }
      ]
    },
    {
      "cell_type": "markdown",
      "metadata": {
        "id": "g7B_-g2xVhEg"
      },
      "source": [
        "> **Nhận xét:** Nhóm chúng em đã sử dụng thêm Ridge và Lasso Regression để giảm overfitting nhưng kết quả cũng không tốt hơn. MSE và độ lỗi chưa được tốt nhiều khả năng không phải do overfitting vì những thông số được chọn không tăng tuyến tính quá rõ rệt theo điểm CK."
      ]
    },
    {
      "cell_type": "markdown",
      "metadata": {
        "id": "QgjCqcDRROl5"
      },
      "source": [
        "### Other Models"
      ]
    },
    {
      "cell_type": "code",
      "metadata": {
        "colab": {
          "base_uri": "https://localhost:8080/"
        },
        "id": "5Yp43e6f5xwZ",
        "outputId": "e275f6fb-3b1f-4e8d-fafc-82d0b699a569"
      },
      "source": [
        "# K Neighbors Regressor\n",
        "reg=KNeighborsRegressor(n_neighbors=25).fit(X_train, y_train)\n",
        "y_pred=reg.predict(X_test)\n",
        "evaluate(y_test, y_pred)"
      ],
      "execution_count": 134,
      "outputs": [
        {
          "output_type": "stream",
          "text": [
            "MSE: 4.256259504132231\n",
            "Error 34.62295689928775 (%)\n"
          ],
          "name": "stdout"
        }
      ]
    },
    {
      "cell_type": "code",
      "metadata": {
        "colab": {
          "base_uri": "https://localhost:8080/"
        },
        "id": "bP22Jnxbji4O",
        "outputId": "6c68a0d3-ee1c-4f0f-ae5a-3e0450d9f8e1"
      },
      "source": [
        "# Decision Tree Regressor\n",
        "reg=DecisionTreeRegressor(max_depth=4).fit(X_train, y_train)\n",
        "y_pred=reg.predict(X_test)\n",
        "evaluate(y_test, y_pred)"
      ],
      "execution_count": 125,
      "outputs": [
        {
          "output_type": "stream",
          "text": [
            "MSE: 4.076287671181455\n",
            "Error 33.88305168764466 (%)\n"
          ],
          "name": "stdout"
        }
      ]
    },
    {
      "cell_type": "code",
      "metadata": {
        "colab": {
          "base_uri": "https://localhost:8080/"
        },
        "id": "AJPzRXC5coLg",
        "outputId": "f2e0d8cb-e311-410f-d568-3c9729501006"
      },
      "source": [
        "# Random Forest Regressor\n",
        "reg=RandomForestRegressor(max_depth=5).fit(X_train, y_train)\n",
        "y_pred=reg.predict(X_test)\n",
        "evaluate(y_test, y_pred)"
      ],
      "execution_count": 114,
      "outputs": [
        {
          "output_type": "stream",
          "text": [
            "MSE: 3.8821520735660373\n",
            "Error 33.06635907136817 (%)\n"
          ],
          "name": "stdout"
        }
      ]
    },
    {
      "cell_type": "code",
      "metadata": {
        "colab": {
          "base_uri": "https://localhost:8080/"
        },
        "id": "mOD9Z2D1gP8O",
        "outputId": "ed4ab56f-bae5-436a-d507-97090267150c"
      },
      "source": [
        "# Gradient Boosting Regressor\n",
        "reg=GradientBoostingRegressor(learning_rate=0.05).fit(X_train, y_train)\n",
        "y_pred=reg.predict(X_test)\n",
        "mse = mean_squared_error(y_test, y_pred)\n",
        "evaluate(y_test, y_pred)"
      ],
      "execution_count": 118,
      "outputs": [
        {
          "output_type": "stream",
          "text": [
            "MSE: 3.686131804349312\n",
            "Error 32.220741870954996 (%)\n"
          ],
          "name": "stdout"
        }
      ]
    },
    {
      "cell_type": "markdown",
      "metadata": {
        "id": "bhzc7jp4a_nX"
      },
      "source": [
        "> **Nhận xét:** Nhóm chúng em đã sử dụng thêm vài model khác để train và đều cho kết quả tốt hơn Linear Regression, trong đó Gradient Boosting Regressor là tốt nhất. MSE đã giảm xuống dưới 4 và độ lỗi còn khoảng 32% (dưới 1/3) "
      ]
    }
  ]
}